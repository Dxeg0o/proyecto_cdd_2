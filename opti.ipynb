{
 "cells": [
  {
   "cell_type": "code",
   "execution_count": 1,
   "metadata": {},
   "outputs": [],
   "source": [
    "from gurobipy import *"
   ]
  },
  {
   "cell_type": "code",
   "execution_count": 2,
   "metadata": {},
   "outputs": [
    {
     "name": "stdout",
     "output_type": "stream",
     "text": [
      "Restricted license - for non-production use only - expires 2025-11-24\n"
     ]
    }
   ],
   "source": [
    "m = Model(\"Prueba\")"
   ]
  },
  {
   "cell_type": "code",
   "execution_count": 3,
   "metadata": {},
   "outputs": [],
   "source": [
    "xe = m.addVar(vtype=GRB.CONTINUOUS, name=\"x\")\n",
    "y = m.addVar(vtype=GRB.CONTINUOUS, name=\"y\")\n",
    "z = m.addVar(vtype=GRB.CONTINUOUS, name=\"z\")"
   ]
  },
  {
   "cell_type": "code",
   "execution_count": 4,
   "metadata": {},
   "outputs": [
    {
     "data": {
      "text/plain": [
       "<gurobi.Constr *Awaiting Model Update*>"
      ]
     },
     "execution_count": 4,
     "metadata": {},
     "output_type": "execute_result"
    }
   ],
   "source": [
    "# Agregar restricciones\n",
    "m.addConstr(xe + y + z <= 4)\n",
    "m.addConstr(2*xe + y <= 3)\n",
    "m.addConstr(xe + 2*z <= 2)"
   ]
  },
  {
   "cell_type": "code",
   "execution_count": 5,
   "metadata": {},
   "outputs": [
    {
     "data": {
      "text/plain": [
       "[]"
      ]
     },
     "execution_count": 5,
     "metadata": {},
     "output_type": "execute_result"
    }
   ],
   "source": [
    "#Valores de las varialbes\n",
    "m.getVars()"
   ]
  },
  {
   "cell_type": "code",
   "execution_count": 6,
   "metadata": {},
   "outputs": [
    {
     "ename": "AttributeError",
     "evalue": "Unable to retrieve attribute 'ObjVal'",
     "output_type": "error",
     "traceback": [
      "\u001b[0;31m---------------------------------------------------------------------------\u001b[0m",
      "\u001b[0;31mAttributeError\u001b[0m                            Traceback (most recent call last)",
      "\u001b[1;32m/Users/diegosolerolguin/Documents/programming/CDD/proyecto_cdd_2/opti.ipynb Cell 6\u001b[0m line \u001b[0;36m2\n\u001b[1;32m      <a href='vscode-notebook-cell:/Users/diegosolerolguin/Documents/programming/CDD/proyecto_cdd_2/opti.ipynb#X32sZmlsZQ%3D%3D?line=0'>1</a>\u001b[0m \u001b[39m#Imprimir todos los valores\u001b[39;00m\n\u001b[0;32m----> <a href='vscode-notebook-cell:/Users/diegosolerolguin/Documents/programming/CDD/proyecto_cdd_2/opti.ipynb#X32sZmlsZQ%3D%3D?line=1'>2</a>\u001b[0m \u001b[39mprint\u001b[39m(\u001b[39m\"\u001b[39m\u001b[39mFuncion Objetivo\u001b[39m\u001b[39m\"\u001b[39m,\u001b[39mstr\u001b[39m(\u001b[39mround\u001b[39m(m\u001b[39m.\u001b[39;49mObjVal,\u001b[39m2\u001b[39m)))\n\u001b[1;32m      <a href='vscode-notebook-cell:/Users/diegosolerolguin/Documents/programming/CDD/proyecto_cdd_2/opti.ipynb#X32sZmlsZQ%3D%3D?line=2'>3</a>\u001b[0m \u001b[39mfor\u001b[39;00m v \u001b[39min\u001b[39;00m m\u001b[39m.\u001b[39mgetVars():\n\u001b[1;32m      <a href='vscode-notebook-cell:/Users/diegosolerolguin/Documents/programming/CDD/proyecto_cdd_2/opti.ipynb#X32sZmlsZQ%3D%3D?line=3'>4</a>\u001b[0m     \u001b[39mprint\u001b[39m(\u001b[39mstr\u001b[39m(v\u001b[39m.\u001b[39mVarName) \u001b[39m+\u001b[39m\u001b[39m\"\u001b[39m\u001b[39m = \u001b[39m\u001b[39m\"\u001b[39m \u001b[39m+\u001b[39m \u001b[39mstr\u001b[39m(\u001b[39mround\u001b[39m(v\u001b[39m.\u001b[39mx, \u001b[39m2\u001b[39m)))\n",
      "File \u001b[0;32msrc/gurobipy/model.pxi:368\u001b[0m, in \u001b[0;36mgurobipy.Model.__getattr__\u001b[0;34m()\u001b[0m\n",
      "File \u001b[0;32msrc/gurobipy/model.pxi:1896\u001b[0m, in \u001b[0;36mgurobipy.Model.getAttr\u001b[0;34m()\u001b[0m\n",
      "File \u001b[0;32msrc/gurobipy/attrutil.pxi:103\u001b[0m, in \u001b[0;36mgurobipy._getattr\u001b[0;34m()\u001b[0m\n",
      "\u001b[0;31mAttributeError\u001b[0m: Unable to retrieve attribute 'ObjVal'"
     ]
    }
   ],
   "source": [
    "#Imprimir todos los valores\n",
    "print(\"Funcion Objetivo\",str(round(m.ObjVal,2)))\n",
    "for v in m.getVars():\n",
    "    print(str(v.VarName) +\" = \" + str(round(v.x, 2)))"
   ]
  },
  {
   "cell_type": "code",
   "execution_count": null,
   "metadata": {},
   "outputs": [],
   "source": [
    "arcos = [(i,j) for i in familia for j in jugos]\n",
    "arcos"
   ]
  }
 ],
 "metadata": {
  "kernelspec": {
   "display_name": "Python 3",
   "language": "python",
   "name": "python3"
  },
  "language_info": {
   "codemirror_mode": {
    "name": "ipython",
    "version": 3
   },
   "file_extension": ".py",
   "mimetype": "text/x-python",
   "name": "python",
   "nbconvert_exporter": "python",
   "pygments_lexer": "ipython3",
   "version": "3.12.0"
  }
 },
 "nbformat": 4,
 "nbformat_minor": 2
}
