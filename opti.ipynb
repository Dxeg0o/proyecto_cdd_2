{
 "cells": [
  {
   "cell_type": "code",
   "execution_count": 1,
   "metadata": {},
   "outputs": [],
   "source": [
    "from gurobipy import *"
   ]
  },
  {
   "cell_type": "code",
   "execution_count": 2,
   "metadata": {},
   "outputs": [
    {
     "name": "stdout",
     "output_type": "stream",
     "text": [
      "Restricted license - for non-production use only - expires 2025-11-24\n"
     ]
    }
   ],
   "source": [
    "m = Model(\"Prueba\")"
   ]
  },
  {
   "cell_type": "code",
   "execution_count": 3,
   "metadata": {},
   "outputs": [],
   "source": [
    "xe = m.addVar(vtype=GRB.CONTINUOUS, name=\"x\")\n",
    "y = m.addVar(vtype=GRB.CONTINUOUS, name=\"y\")\n",
    "z = m.addVar(vtype=GRB.CONTINUOUS, name=\"z\")"
   ]
  },
  {
   "cell_type": "code",
   "execution_count": 4,
   "metadata": {},
   "outputs": [],
   "source": [
    "m.setObjective(xe + 2*y + 3*z, GRB.MAXIMIZE)"
   ]
  },
  {
   "cell_type": "code",
   "execution_count": 5,
   "metadata": {},
   "outputs": [
    {
     "data": {
      "text/plain": [
       "<gurobi.Constr *Awaiting Model Update*>"
      ]
     },
     "execution_count": 5,
     "metadata": {},
     "output_type": "execute_result"
    }
   ],
   "source": [
    "# Agregar restricciones\n",
    "m.addConstr(xe + y + z <= 4)\n",
    "m.addConstr(2*xe + y <= 3)\n",
    "m.addConstr(xe + 2*z <= 2)"
   ]
  },
  {
   "cell_type": "code",
   "execution_count": 6,
   "metadata": {},
   "outputs": [],
   "source": [
    "m.write(\"ejemplo.lp\")"
   ]
  },
  {
   "cell_type": "code",
   "execution_count": 7,
   "metadata": {},
   "outputs": [
    {
     "name": "stdout",
     "output_type": "stream",
     "text": [
      "Maximize\n",
      "  x + 2.0 y + 3.0 z\n",
      "Subject To\n",
      "  R0: x + y + z <= 4\n",
      "  R1: 2.0 x + y <= 3\n",
      "  R2: x + 2.0 z <= 2\n"
     ]
    },
    {
     "name": "stderr",
     "output_type": "stream",
     "text": [
      "/var/folders/39/m6n3f2ns5lz21nbwqtf6m5xc0000gn/T/ipykernel_46245/137993151.py:1: DeprecationWarning: Model.display() is deprecated\n",
      "  m.display()\n"
     ]
    }
   ],
   "source": [
    "m.display()"
   ]
  },
  {
   "cell_type": "code",
   "execution_count": 8,
   "metadata": {},
   "outputs": [
    {
     "name": "stdout",
     "output_type": "stream",
     "text": [
      "Gurobi Optimizer version 11.0.1 build v11.0.1rc0 (mac64[arm] - Darwin 23.4.0 23E224)\n",
      "\n",
      "CPU model: Apple M2\n",
      "Thread count: 8 physical cores, 8 logical processors, using up to 8 threads\n",
      "\n",
      "Optimize a model with 3 rows, 3 columns and 7 nonzeros\n",
      "Model fingerprint: 0x86c952c9\n",
      "Coefficient statistics:\n",
      "  Matrix range     [1e+00, 2e+00]\n",
      "  Objective range  [1e+00, 3e+00]\n",
      "  Bounds range     [0e+00, 0e+00]\n",
      "  RHS range        [2e+00, 4e+00]\n",
      "Presolve time: 0.00s\n",
      "Presolved: 3 rows, 3 columns, 7 nonzeros\n",
      "\n",
      "Iteration    Objective       Primal Inf.    Dual Inf.      Time\n",
      "       0    6.0000000e+30   6.000000e+30   6.000000e+00      0s\n",
      "       2    9.0000000e+00   0.000000e+00   0.000000e+00      0s\n",
      "\n",
      "Solved in 2 iterations and 0.00 seconds (0.00 work units)\n",
      "Optimal objective  9.000000000e+00\n"
     ]
    }
   ],
   "source": [
    "# Resolver el modelo\n",
    "m.optimize()"
   ]
  },
  {
   "cell_type": "code",
   "execution_count": 9,
   "metadata": {},
   "outputs": [
    {
     "data": {
      "text/plain": [
       "9.0"
      ]
     },
     "execution_count": 9,
     "metadata": {},
     "output_type": "execute_result"
    }
   ],
   "source": [
    "#Valor de la funcion objetivo\n",
    "m.ObjVal"
   ]
  },
  {
   "cell_type": "code",
   "execution_count": 10,
   "metadata": {},
   "outputs": [
    {
     "data": {
      "text/plain": [
       "[<gurobi.Var x (value 0.0)>,\n",
       " <gurobi.Var y (value 3.0)>,\n",
       " <gurobi.Var z (value 1.0)>]"
      ]
     },
     "execution_count": 10,
     "metadata": {},
     "output_type": "execute_result"
    }
   ],
   "source": [
    "#Valores de las varialbes\n",
    "m.getVars()"
   ]
  },
  {
   "cell_type": "code",
   "execution_count": 11,
   "metadata": {},
   "outputs": [
    {
     "data": {
      "text/plain": [
       "0.0"
      ]
     },
     "execution_count": 11,
     "metadata": {},
     "output_type": "execute_result"
    }
   ],
   "source": [
    "#Valor de una sola variable\n",
    "xe.x"
   ]
  },
  {
   "cell_type": "code",
   "execution_count": 12,
   "metadata": {},
   "outputs": [
    {
     "name": "stdout",
     "output_type": "stream",
     "text": [
      "Funcion Objetivo 9.0\n",
      "x = 0.0\n",
      "y = 3.0\n",
      "z = 1.0\n"
     ]
    }
   ],
   "source": [
    "#Imprimir todos los valores\n",
    "print(\"Funcion Objetivo\",str(round(m.ObjVal,2)))\n",
    "for v in m.getVars():\n",
    "    print(str(v.VarName) +\" = \" + str(round(v.x, 2)))"
   ]
  },
  {
   "cell_type": "code",
   "execution_count": 13,
   "metadata": {},
   "outputs": [],
   "source": [
    "semanas = [0,1,2,3,4,5]\n",
    "camiones = [1,2,3,4,5,6]\n",
    "familia = [\"Jugo\",\"Gaseosa\"]\n",
    "jugos = [[\"Piña\",\"Manzana\",\"Melon\",\"Durazno\",\"Damasco\",\"Naranja\",\"Frutilla\"],[\"Cola\",\"Blanca\",\"Frutal\"]]\n",
    "gaseosas = [\"Cola\",\"Blanca\",\"Frutal\"]"
   ]
  },
  {
   "cell_type": "code",
   "execution_count": 14,
   "metadata": {},
   "outputs": [
    {
     "data": {
      "text/plain": [
       "[('Jugo',\n",
       "  ['Piña', 'Mnazana', 'Melon', 'Durazno', 'Damasco', 'Naranja', 'Frutilla']),\n",
       " ('Jugo', ['Cola', 'Blanca', 'Frutal']),\n",
       " ('Gaseosa',\n",
       "  ['Piña', 'Mnazana', 'Melon', 'Durazno', 'Damasco', 'Naranja', 'Frutilla']),\n",
       " ('Gaseosa', ['Cola', 'Blanca', 'Frutal'])]"
      ]
     },
     "execution_count": 14,
     "metadata": {},
     "output_type": "execute_result"
    }
   ],
   "source": [
    "arcos = [(i,j) for i in familia for j in jugos]\n",
    "arcos"
   ]
  }
 ],
 "metadata": {
  "kernelspec": {
   "display_name": "Python 3",
   "language": "python",
   "name": "python3"
  },
  "language_info": {
   "codemirror_mode": {
    "name": "ipython",
    "version": 3
   },
   "file_extension": ".py",
   "mimetype": "text/x-python",
   "name": "python",
   "nbconvert_exporter": "python",
   "pygments_lexer": "ipython3",
   "version": "3.12.0"
  }
 },
 "nbformat": 4,
 "nbformat_minor": 2
}
