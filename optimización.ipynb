{
 "cells": [
  {
   "cell_type": "markdown",
   "metadata": {},
   "source": [
    "**Proyecto Optimización**\n",
    "\n",
    "Entrega 2 Código\n",
    "\n",
    "Integrantes: Paola Palacios, Cristobal Segú, a ver si se mete, Diego Soler\n",
    "\n",
    "-Sección 1\n",
    "\n",
    "-Profesor Omar Matus"
   ]
  },
  {
   "cell_type": "markdown",
   "metadata": {},
   "source": [
    "1. Insertar los datos entregados para los parametros dentro de variables"
   ]
  },
  {
   "cell_type": "code",
   "execution_count": 12,
   "metadata": {},
   "outputs": [
    {
     "name": "stdout",
     "output_type": "stream",
     "text": [
      "Productos por categoría: {'Jugo': ['Piña', 'Manzana', 'Melon', 'Durazno', 'Damasco', 'Naranja', 'Frutilla'], 'Gaseosa': ['Cola', 'Blanca', 'Frutal']}\n",
      "Periodos (semanas): {0, 1, 2, 3, 4, 5}\n",
      "Números de camiones: [{'numero': 1, 'capacidad_transporte': 26000, 'costo_litro': 6.3}, {'numero': 2, 'capacidad_transporte': 25000, 'costo_litro': 5}, {'numero': 3, 'capacidad_transporte': 30000, 'costo_litro': 3.7}, {'numero': 4, 'capacidad_transporte': 33000, 'costo_litro': 4.1}, {'numero': 5, 'capacidad_transporte': 25000, 'costo_litro': 6.9}, {'numero': 6, 'capacidad_transporte': 21000, 'costo_litro': 5.4}]\n",
      "Proveedores (N): {('Jugo', 'Piña'): {'produccion_maxima_por_semana': 80000, 'precio_compra': 2.4}, ('Jugo', 'Manzana'): {'produccion_maxima_por_semana': 80000, 'precio_compra': 3.0}, ('Jugo', 'Melon'): {'produccion_maxima_por_semana': 70000, 'precio_compra': 3.3}, ('Jugo', 'Durazno'): {'produccion_maxima_por_semana': 50000, 'precio_compra': 4.5}, ('Jugo', 'Damasco'): {'produccion_maxima_por_semana': 80000, 'precio_compra': 3.9}, ('Jugo', 'Naranja'): {'produccion_maxima_por_semana': 80000, 'precio_compra': 2.7}, ('Jugo', 'Frutilla'): {'produccion_maxima_por_semana': 100000, 'precio_compra': 4.2}, ('Gaseosa', 'Cola'): {'produccion_maxima_por_semana': 70000, 'precio_compra': 2.7}, ('Gaseosa', 'Blanca'): {'produccion_maxima_por_semana': 80000, 'precio_compra': 3.9}, ('Gaseosa', 'Frutal'): {'produccion_maxima_por_semana': 100000, 'precio_compra': 2.7}}\n",
      "Clientes (M): {('Jugo', 'Piña'): {'demanda_semana1': 2800, 'demanda_semana2': 4060, 'demanda_semana3': 2800, 'demanda_semana4': 3080, 'demanda_semana5': 3080}, ('Jugo', 'Manzana'): {'demanda_semana1': 3780, 'demanda_semana2': 2100, 'demanda_semana3': 2800, 'demanda_semana4': 3780, 'demanda_semana5': 4060}, ('Jugo', 'Melon'): {'demanda_semana1': 2520, 'demanda_semana2': 3780, 'demanda_semana3': 2100, 'demanda_semana4': 4200, 'demanda_semana5': 3920}, ('Jugo', 'Durazno'): {'demanda_semana1': 2520, 'demanda_semana2': 3640, 'demanda_semana3': 3220, 'demanda_semana4': 3780, 'demanda_semana5': 2520}, ('Jugo', 'Damasco'): {'demanda_semana1': 3500, 'demanda_semana2': 2800, 'demanda_semana3': 3220, 'demanda_semana4': 3640, 'demanda_semana5': 3080}, ('Jugo', 'Naranja'): {'demanda_semana1': 2520, 'demanda_semana2': 2660, 'demanda_semana3': 1680, 'demanda_semana4': 3500, 'demanda_semana5': 4200}, ('Jugo', 'Frutilla'): {'demanda_semana1': 8400, 'demanda_semana2': 8680, 'demanda_semana3': 9520, 'demanda_semana4': 7000, 'demanda_semana5': 8260}, ('Gaseosa', 'Cola'): {'demanda_semana1': 9315, 'demanda_semana2': 7560, 'demanda_semana3': 6075, 'demanda_semana4': 5940, 'demanda_semana5': 6615}, ('Gaseosa', 'Blanca'): {'demanda_semana1': 7560, 'demanda_semana2': 9315, 'demanda_semana3': 8235, 'demanda_semana4': 8505, 'demanda_semana5': 8910}, ('Gaseosa', 'Frutal'): {'demanda_semana1': 9315, 'demanda_semana2': 5940, 'demanda_semana3': 5805, 'demanda_semana4': 6210, 'demanda_semana5': 5940}}\n",
      "Bodega: {'capacidad_litros': 20000, 'costo_almacenamiento': 1.15}\n",
      "Presupuesto semanal: [{'semana': 0, 'millones': 7.5}, {'semana': 1, 'millones': 6.2}, {'semana': 2, 'millones': 5.6}, {'semana': 3, 'millones': 4.6}, {'semana': 4, 'millones': 3.3}, {'semana': 5, 'millones': 5.9}]\n"
     ]
    }
   ],
   "source": [
    "# Productos por categoría\n",
    "productos_por_categoria = {\n",
    "    'Jugo': ['Piña', 'Manzana', 'Melon', 'Durazno', 'Damasco', 'Naranja', 'Frutilla'],\n",
    "    'Gaseosa': ['Cola', 'Blanca', 'Frutal'],\n",
    "}\n",
    "\n",
    "# Periodos (semanas)\n",
    "periodos = {0, 1, 2, 3, 4, 5}\n",
    "\n",
    "# Lista de camiones\n",
    "camiones = [\n",
    "    {'numero': 1, 'capacidad_transporte': 26000, 'costo_litro': 6.3},\n",
    "    {'numero': 2, 'capacidad_transporte': 25000, 'costo_litro': 5},\n",
    "    {'numero': 3, 'capacidad_transporte': 30000, 'costo_litro': 3.7},\n",
    "    {'numero': 4, 'capacidad_transporte': 33000, 'costo_litro': 4.1},\n",
    "    {'numero': 5, 'capacidad_transporte': 25000, 'costo_litro': 6.9},\n",
    "    {'numero': 6, 'capacidad_transporte': 21000, 'costo_litro': 5.4},\n",
    "]\n",
    "\n",
    "# Proveedores\n",
    "proveedor_1 = {\n",
    "    ('Jugo', 'Piña'): {'produccion_maxima_por_semana': 2000, 'precio_compra': 1.00},\n",
    "    ('Jugo', 'Manzana'): {'produccion_maxima_por_semana': 1000, 'precio_compra': 1.00},\n",
    "    ('Jugo', 'Melon'): {'produccion_maxima_por_semana': 2500, 'precio_compra': 0.80},\n",
    "    ('Jugo', 'Durazno'): {'produccion_maxima_por_semana': 3500, 'precio_compra': 1.00},\n",
    "    ('Jugo', 'Damasco'): {'produccion_maxima_por_semana': 1000, 'precio_compra': 1.00},\n",
    "    ('Jugo', 'Naranja'): {'produccion_maxima_por_semana': 3000, 'precio_compra': 0.80},\n",
    "    ('Jugo', 'Frutilla'): {'produccion_maxima_por_semana': 5000, 'precio_compra': 0.90},\n",
    "    ('Gaseosa', 'Cola'): {'produccion_maxima_por_semana': 7000, 'precio_compra': 1.30},\n",
    "    ('Gaseosa', 'Blanca'): {'produccion_maxima_por_semana': 1000, 'precio_compra': 1.40},\n",
    "    ('Gaseosa', 'Frutal'): {'produccion_maxima_por_semana': 3000, 'precio_compra': 1.10},\n",
    "}\n",
    "\n",
    "proveedor_2 = {\n",
    "    ('Jugo', 'Piña'): {'produccion_maxima_por_semana': 8000, 'precio_compra': 0.90},\n",
    "    ('Jugo', 'Manzana'): {'produccion_maxima_por_semana': 9000, 'precio_compra': 1.50},\n",
    "    ('Jugo', 'Melon'): {'produccion_maxima_por_semana': 4000, 'precio_compra': 0.80},\n",
    "    ('Jugo', 'Durazno'): {'produccion_maxima_por_semana': 6000, 'precio_compra': 1.50},\n",
    "    ('Jugo', 'Damasco'): {'produccion_maxima_por_semana': 4000, 'precio_compra': 1.50},\n",
    "    ('Jugo', 'Naranja'): {'produccion_maxima_por_semana': 2000, 'precio_compra': 1.00},\n",
    "    ('Jugo', 'Frutilla'): {'produccion_maxima_por_semana': 10000, 'precio_compra': 0.80},\n",
    "    ('Gaseosa', 'Cola'): {'produccion_maxima_por_semana': 4000, 'precio_compra': 0.90},\n",
    "    ('Gaseosa', 'Blanca'): {'produccion_maxima_por_semana': 1000, 'precio_compra': 1.00},\n",
    "    ('Gaseosa', 'Frutal'): {'produccion_maxima_por_semana': 1000, 'precio_compra': 0.90},\n",
    "}\n",
    "\n",
    "proveedor_3 = {\n",
    "    ('Jugo', 'Piña'): {'produccion_maxima_por_semana': 1000, 'precio_compra': 1.40},\n",
    "    ('Jugo', 'Manzana'): {'produccion_maxima_por_semana': 2000, 'precio_compra': 1.30},\n",
    "    ('Jugo', 'Melon'): {'produccion_maxima_por_semana': 3000, 'precio_compra': 1.40},\n",
    "    ('Jugo', 'Durazno'): {'produccion_maxima_por_semana': 4000, 'precio_compra': 0.80},\n",
    "    ('Jugo', 'Damasco'): {'produccion_maxima_por_semana': 4500, 'precio_compra': 1.00},\n",
    "    ('Jugo', 'Naranja'): {'produccion_maxima_por_semana': 6000, 'precio_compra': 1.00},\n",
    "    ('Jugo', 'Frutilla'): {'produccion_maxima_por_semana': 5500, 'precio_compra': 1.10},\n",
    "}\n",
    "\n",
    "proveedor_4 = {\n",
    "    ('Jugo', 'Piña'): {'produccion_maxima_por_semana': 80000, 'precio_compra': 2.40},\n",
    "    ('Jugo', 'Manzana'): {'produccion_maxima_por_semana': 80000, 'precio_compra': 3.00},\n",
    "    ('Jugo', 'Melon'): {'produccion_maxima_por_semana': 70000, 'precio_compra': 3.30},\n",
    "    ('Jugo', 'Durazno'): {'produccion_maxima_por_semana': 50000, 'precio_compra': 4.50},\n",
    "    ('Jugo', 'Damasco'): {'produccion_maxima_por_semana': 80000, 'precio_compra': 3.90},\n",
    "    ('Jugo', 'Naranja'): {'produccion_maxima_por_semana': 80000, 'precio_compra': 2.70},\n",
    "    ('Jugo', 'Frutilla'): {'produccion_maxima_por_semana': 100000, 'precio_compra': 4.20},\n",
    "    ('Gaseosa', 'Cola'): {'produccion_maxima_por_semana': 70000, 'precio_compra': 2.70},\n",
    "    ('Gaseosa', 'Blanca'): {'produccion_maxima_por_semana': 80000, 'precio_compra': 3.90},\n",
    "    ('Gaseosa', 'Frutal'): {'produccion_maxima_por_semana': 100000, 'precio_compra': 2.70},\n",
    "}\n",
    "\n",
    "# Clientes\n",
    "cliente_1 = {\n",
    "    ('Jugo', 'Piña'): {'demanda_semana1': 2000, 'demanda_semana2': 1625, 'demanda_semana3': 2125, 'demanda_semana4': 2125, 'demanda_semana5': 2375},\n",
    "    ('Jugo', 'Manzana'): {'demanda_semana1': 1250, 'demanda_semana2': 2375, 'demanda_semana3': 1625, 'demanda_semana4': 1250, 'demanda_semana5': 2375},\n",
    "    ('Jugo', 'Melon'): {'demanda_semana1': 2500, 'demanda_semana2': 2375, 'demanda_semana3': 2375, 'demanda_semana4': 3125, 'demanda_semana5': 1750},\n",
    "    ('Jugo', 'Durazno'): {'demanda_semana1': 1750, 'demanda_semana2': 3000, 'demanda_semana3': 2625, 'demanda_semana4': 1625, 'demanda_semana5': 2625},\n",
    "    ('Jugo', 'Damasco'): {'demanda_semana1': 2750, 'demanda_semana2': 1375, 'demanda_semana3': 3000, 'demanda_semana4': 2750, 'demanda_semana5': 1375},\n",
    "    ('Jugo', 'Naranja'): {'demanda_semana1': 1250, 'demanda_semana2': 2250, 'demanda_semana3': 3000, 'demanda_semana4': 1250, 'demanda_semana5': 1375},\n",
    "    ('Jugo', 'Frutilla'): {'demanda_semana1': 1375, 'demanda_semana2': 2625, 'demanda_semana3': 1375, 'demanda_semana4': 2125, 'demanda_semana5': 1375},\n",
    "    ('Gaseosa', 'Cola'): {'demanda_semana1': 2125, 'demanda_semana2': 2000, 'demanda_semana3': 2250, 'demanda_semana4': 2250, 'demanda_semana5': 2375},\n",
    "    ('Gaseosa', 'Blanca'): {'demanda_semana1': 2125, 'demanda_semana2': 1750, 'demanda_semana3': 2500, 'demanda_semana4': 1875, 'demanda_semana5': 1750},\n",
    "    ('Gaseosa', 'Frutal'): {'demanda_semana1': 1375, 'demanda_semana2': 1500, 'demanda_semana3': 1500, 'demanda_semana4': 1375, 'demanda_semana5': 2125},\n",
    "}\n",
    "\n",
    "cliente_2 = {\n",
    "    ('Jugo', 'Piña'): {'demanda_semana1': 2800, 'demanda_semana2': 4060, 'demanda_semana3': 2800, 'demanda_semana4': 3080, 'demanda_semana5': 3080},\n",
    "    ('Jugo', 'Manzana'): {'demanda_semana1': 3780, 'demanda_semana2': 2100, 'demanda_semana3': 2800, 'demanda_semana4': 3780, 'demanda_semana5': 4060},\n",
    "    ('Jugo', 'Melon'): {'demanda_semana1': 2520, 'demanda_semana2': 3780, 'demanda_semana3': 2100, 'demanda_semana4': 4200, 'demanda_semana5': 3920},\n",
    "    ('Jugo', 'Durazno'): {'demanda_semana1': 2520, 'demanda_semana2': 3640, 'demanda_semana3': 3220, 'demanda_semana4': 3780, 'demanda_semana5': 2520},\n",
    "    ('Jugo', 'Damasco'): {'demanda_semana1': 3500, 'demanda_semana2': 2800, 'demanda_semana3': 3220, 'demanda_semana4': 3640, 'demanda_semana5': 3080},\n",
    "    ('Jugo', 'Naranja'): {'demanda_semana1': 2520, 'demanda_semana2': 2660, 'demanda_semana3': 1680, 'demanda_semana4': 3500, 'demanda_semana5': 4200},\n",
    "    ('Jugo', 'Frutilla'): {'demanda_semana1': 8400, 'demanda_semana2': 8680, 'demanda_semana3': 9520, 'demanda_semana4': 7000, 'demanda_semana5': 8260},\n",
    "    ('Gaseosa', 'Cola'): {'demanda_semana1': 8549, 'demanda_semana2': 8400, 'demanda_semana3': 5600, 'demanda_semana4': 8820, 'demanda_semana5': 5740},\n",
    "    ('Gaseosa', 'Blanca'): {'demanda_semana1': 8260, 'demanda_semana2': 6020, 'demanda_semana3': 6860, 'demanda_semana4': 7420, 'demanda_semana5': 8260},\n",
    "    ('Gaseosa', 'Frutal'): {'demanda_semana1': 840, 'demanda_semana2': 700, 'demanda_semana3': 700, 'demanda_semana4': 840, 'demanda_semana5': 980},\n",
    "}\n",
    "\n",
    "cliente_3 = {\n",
    "    ('Gaseosa', 'Cola'): {'demanda_semana1': 9315, 'demanda_semana2': 7560, 'demanda_semana3': 6075, 'demanda_semana4': 5940, 'demanda_semana5': 6615},\n",
    "    ('Gaseosa', 'Blanca'): {'demanda_semana1': 7560, 'demanda_semana2': 9315, 'demanda_semana3': 8235, 'demanda_semana4': 8505, 'demanda_semana5': 8910},\n",
    "    ('Gaseosa', 'Frutal'): {'demanda_semana1': 9315, 'demanda_semana2': 5940, 'demanda_semana3': 5805, 'demanda_semana4': 6210, 'demanda_semana5': 5940},\n",
    "}\n",
    "\n",
    "# Consolidar los datos de proveedores y clientes\n",
    "proveedores = {**proveedor_1, **proveedor_2, **proveedor_3, **proveedor_4}\n",
    "clientes = {**cliente_1, **cliente_2, **cliente_3}\n",
    "\n",
    "#Parametros de bodega\n",
    "bodega = {\n",
    "    'capacidad_litros': 20000,\n",
    "    'costo_almacenamiento': 1.15\n",
    "}\n",
    "\n",
    "# Presupuesto semanal\n",
    "presupuesto = [\n",
    "    {'semana': 0, 'millones': 7.5},\n",
    "    {'semana': 1, 'millones': 6.2},\n",
    "    {'semana': 2, 'millones': 5.6},\n",
    "    {'semana': 3, 'millones': 4.6},\n",
    "    {'semana': 4, 'millones': 3.3},\n",
    "    {'semana': 5, 'millones': 5.9},\n",
    "]\n",
    "\n",
    "# Imprimir para verificar\n",
    "print(\"Productos por categoría:\", productos_por_categoria)\n",
    "print(\"Periodos (semanas):\", periodos)\n",
    "print(\"Números de camiones:\", camiones)\n",
    "print(\"Proveedores (N):\", proveedores)\n",
    "print(\"Clientes (M):\", clientes)\n",
    "print(\"Bodega:\", bodega)\n",
    "print(\"Presupuesto semanal:\", presupuesto)\n"
   ]
  },
  {
   "cell_type": "markdown",
   "metadata": {},
   "source": [
    "2. Hacer simplex"
   ]
  },
  {
   "cell_type": "code",
   "execution_count": 13,
   "metadata": {},
   "outputs": [],
   "source": [
    "from gurobipy import *"
   ]
  },
  {
   "cell_type": "code",
   "execution_count": 14,
   "metadata": {},
   "outputs": [
    {
     "name": "stdout",
     "output_type": "stream",
     "text": [
      "Restricted license - for non-production use only - expires 2025-11-24\n"
     ]
    }
   ],
   "source": [
    "m = Model(\"Prueba\")"
   ]
  },
  {
   "cell_type": "code",
   "execution_count": 15,
   "metadata": {},
   "outputs": [],
   "source": [
    "# Agregar variables de decisión\n",
    "x={}\n",
    "y={}\n",
    "z={}\n",
    "\n",
    "for familia\n",
    "    for producto\n",
    "        for proveedor\n",
    "            for periodos\n",
    "                x[i,j,k,t] = m.addVar(vtype=GRB.CONTINUOUS, name=f\"x_{i}_{j}...\")\n"
   ]
  },
  {
   "cell_type": "code",
   "execution_count": 16,
   "metadata": {},
   "outputs": [],
   "source": [
    "# Agregar restricciones\n",
    "\n",
    "\n",
    "\n",
    "\n",
    "\n"
   ]
  },
  {
   "cell_type": "code",
   "execution_count": null,
   "metadata": {},
   "outputs": [],
   "source": []
  },
  {
   "cell_type": "code",
   "execution_count": null,
   "metadata": {},
   "outputs": [],
   "source": []
  }
 ],
 "metadata": {
  "kernelspec": {
   "display_name": "Python 3",
   "language": "python",
   "name": "python3"
  },
  "language_info": {
   "codemirror_mode": {
    "name": "ipython",
    "version": 3
   },
   "file_extension": ".py",
   "mimetype": "text/x-python",
   "name": "python",
   "nbconvert_exporter": "python",
   "pygments_lexer": "ipython3",
   "version": "3.12.0"
  }
 },
 "nbformat": 4,
 "nbformat_minor": 2
}
