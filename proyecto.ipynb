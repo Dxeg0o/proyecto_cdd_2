{
  "cells": [
    {
      "cell_type": "code",
      "execution_count": 2,
      "metadata": {},
      "outputs": [],
      "source": [
        "import pandas as pd\n",
        "import numpy as np"
      ]
    },
    {
      "cell_type": "code",
      "execution_count": 3,
      "metadata": {},
      "outputs": [],
      "source": [
        "from plotnine import *"
      ]
    },
    {
      "cell_type": "code",
      "execution_count": 4,
      "metadata": {},
      "outputs": [],
      "source": [
        "df = pd.read_csv('Base de Datos.csv', delimiter=';')"
      ]
    },
    {
      "cell_type": "code",
      "execution_count": 4,
      "metadata": {},
      "outputs": [
        {
          "data": {
            "text/html": [
              "<div>\n",
              "<style scoped>\n",
              "    .dataframe tbody tr th:only-of-type {\n",
              "        vertical-align: middle;\n",
              "    }\n",
              "\n",
              "    .dataframe tbody tr th {\n",
              "        vertical-align: top;\n",
              "    }\n",
              "\n",
              "    .dataframe thead th {\n",
              "        text-align: right;\n",
              "    }\n",
              "</style>\n",
              "<table border=\"1\" class=\"dataframe\">\n",
              "  <thead>\n",
              "    <tr style=\"text-align: right;\">\n",
              "      <th></th>\n",
              "      <th>AGNO</th>\n",
              "      <th>RBD</th>\n",
              "      <th>DGV_RBD</th>\n",
              "      <th>NOM_RBD</th>\n",
              "      <th>COD_REG_RBD</th>\n",
              "      <th>NOM_REG_RBD_A</th>\n",
              "      <th>COD_PRO_RBD</th>\n",
              "      <th>COD_COM_RBD</th>\n",
              "      <th>NOM_COM_RBD</th>\n",
              "      <th>COD_DEPROV_RBD</th>\n",
              "      <th>...</th>\n",
              "      <th>DC_SUP_SOST</th>\n",
              "      <th>HH_SUP_SOST</th>\n",
              "      <th>DC_SUBDIR</th>\n",
              "      <th>HH_SUBDIR</th>\n",
              "      <th>DC_PROF_ENC</th>\n",
              "      <th>HH_PROF_ENC</th>\n",
              "      <th>DC_EDUC_TRAD</th>\n",
              "      <th>HH_EDUC_TRAD</th>\n",
              "      <th>DC_TOT</th>\n",
              "      <th>HH_TOT</th>\n",
              "    </tr>\n",
              "  </thead>\n",
              "  <tbody>\n",
              "    <tr>\n",
              "      <th>0</th>\n",
              "      <td>2023</td>\n",
              "      <td>1</td>\n",
              "      <td>9</td>\n",
              "      <td>LICEO POLITECNICO ARICA</td>\n",
              "      <td>15</td>\n",
              "      <td>AYP</td>\n",
              "      <td>151</td>\n",
              "      <td>15101</td>\n",
              "      <td>ARICA</td>\n",
              "      <td>151</td>\n",
              "      <td>...</td>\n",
              "      <td>0</td>\n",
              "      <td>0</td>\n",
              "      <td>0</td>\n",
              "      <td>0</td>\n",
              "      <td>0</td>\n",
              "      <td>0</td>\n",
              "      <td>0</td>\n",
              "      <td>0</td>\n",
              "      <td>71</td>\n",
              "      <td>2393</td>\n",
              "    </tr>\n",
              "    <tr>\n",
              "      <th>1</th>\n",
              "      <td>2023</td>\n",
              "      <td>2</td>\n",
              "      <td>7</td>\n",
              "      <td>PARVULARIO LAS ESPIGUITAS</td>\n",
              "      <td>15</td>\n",
              "      <td>AYP</td>\n",
              "      <td>151</td>\n",
              "      <td>15101</td>\n",
              "      <td>ARICA</td>\n",
              "      <td>151</td>\n",
              "      <td>...</td>\n",
              "      <td>0</td>\n",
              "      <td>0</td>\n",
              "      <td>0</td>\n",
              "      <td>0</td>\n",
              "      <td>0</td>\n",
              "      <td>0</td>\n",
              "      <td>0</td>\n",
              "      <td>0</td>\n",
              "      <td>15</td>\n",
              "      <td>530</td>\n",
              "    </tr>\n",
              "    <tr>\n",
              "      <th>2</th>\n",
              "      <td>2023</td>\n",
              "      <td>3</td>\n",
              "      <td>5</td>\n",
              "      <td>ESC. PEDRO VICENTE GUTIERREZ TORRES</td>\n",
              "      <td>15</td>\n",
              "      <td>AYP</td>\n",
              "      <td>151</td>\n",
              "      <td>15101</td>\n",
              "      <td>ARICA</td>\n",
              "      <td>151</td>\n",
              "      <td>...</td>\n",
              "      <td>0</td>\n",
              "      <td>0</td>\n",
              "      <td>0</td>\n",
              "      <td>0</td>\n",
              "      <td>0</td>\n",
              "      <td>0</td>\n",
              "      <td>0</td>\n",
              "      <td>0</td>\n",
              "      <td>27</td>\n",
              "      <td>1078</td>\n",
              "    </tr>\n",
              "    <tr>\n",
              "      <th>3</th>\n",
              "      <td>2023</td>\n",
              "      <td>4</td>\n",
              "      <td>3</td>\n",
              "      <td>LICEO OCTAVIO PALMA PEREZ</td>\n",
              "      <td>15</td>\n",
              "      <td>AYP</td>\n",
              "      <td>151</td>\n",
              "      <td>15101</td>\n",
              "      <td>ARICA</td>\n",
              "      <td>151</td>\n",
              "      <td>...</td>\n",
              "      <td>0</td>\n",
              "      <td>0</td>\n",
              "      <td>0</td>\n",
              "      <td>0</td>\n",
              "      <td>0</td>\n",
              "      <td>0</td>\n",
              "      <td>0</td>\n",
              "      <td>0</td>\n",
              "      <td>69</td>\n",
              "      <td>2727</td>\n",
              "    </tr>\n",
              "    <tr>\n",
              "      <th>4</th>\n",
              "      <td>2023</td>\n",
              "      <td>5</td>\n",
              "      <td>1</td>\n",
              "      <td>JOVINA NARANJO FERNANDEZ</td>\n",
              "      <td>15</td>\n",
              "      <td>AYP</td>\n",
              "      <td>151</td>\n",
              "      <td>15101</td>\n",
              "      <td>ARICA</td>\n",
              "      <td>151</td>\n",
              "      <td>...</td>\n",
              "      <td>0</td>\n",
              "      <td>0</td>\n",
              "      <td>0</td>\n",
              "      <td>0</td>\n",
              "      <td>0</td>\n",
              "      <td>0</td>\n",
              "      <td>0</td>\n",
              "      <td>0</td>\n",
              "      <td>63</td>\n",
              "      <td>2414</td>\n",
              "    </tr>\n",
              "  </tbody>\n",
              "</table>\n",
              "<p>5 rows × 47 columns</p>\n",
              "</div>"
            ],
            "text/plain": [
              "   AGNO  RBD  DGV_RBD                              NOM_RBD  COD_REG_RBD  \\\n",
              "0  2023    1        9              LICEO POLITECNICO ARICA           15   \n",
              "1  2023    2        7            PARVULARIO LAS ESPIGUITAS           15   \n",
              "2  2023    3        5  ESC. PEDRO VICENTE GUTIERREZ TORRES           15   \n",
              "3  2023    4        3            LICEO OCTAVIO PALMA PEREZ           15   \n",
              "4  2023    5        1             JOVINA NARANJO FERNANDEZ           15   \n",
              "\n",
              "  NOM_REG_RBD_A  COD_PRO_RBD  COD_COM_RBD NOM_COM_RBD  COD_DEPROV_RBD  ...  \\\n",
              "0           AYP          151        15101       ARICA             151  ...   \n",
              "1           AYP          151        15101       ARICA             151  ...   \n",
              "2           AYP          151        15101       ARICA             151  ...   \n",
              "3           AYP          151        15101       ARICA             151  ...   \n",
              "4           AYP          151        15101       ARICA             151  ...   \n",
              "\n",
              "  DC_SUP_SOST  HH_SUP_SOST  DC_SUBDIR  HH_SUBDIR  DC_PROF_ENC  HH_PROF_ENC  \\\n",
              "0           0            0          0          0            0            0   \n",
              "1           0            0          0          0            0            0   \n",
              "2           0            0          0          0            0            0   \n",
              "3           0            0          0          0            0            0   \n",
              "4           0            0          0          0            0            0   \n",
              "\n",
              "   DC_EDUC_TRAD  HH_EDUC_TRAD  DC_TOT  HH_TOT  \n",
              "0             0             0      71    2393  \n",
              "1             0             0      15     530  \n",
              "2             0             0      27    1078  \n",
              "3             0             0      69    2727  \n",
              "4             0             0      63    2414  \n",
              "\n",
              "[5 rows x 47 columns]"
            ]
          },
          "execution_count": 4,
          "metadata": {},
          "output_type": "execute_result"
        }
      ],
      "source": [
        "df.head()"
      ]
    },
    {
      "cell_type": "code",
      "execution_count": 5,
      "metadata": {},
      "outputs": [
        {
          "data": {
            "text/plain": [
              "Index(['AGNO', 'RBD', 'DGV_RBD', 'NOM_RBD', 'COD_REG_RBD', 'NOM_REG_RBD_A',\n",
              "       'COD_PRO_RBD', 'COD_COM_RBD', 'NOM_COM_RBD', 'COD_DEPROV_RBD',\n",
              "       'NOM_DEPROV_RBD', 'COD_DEPE', 'COD_DEPE2', 'RURAL_RBD', 'ESTADO_ESTAB',\n",
              "       'DC_A', 'HH_A', 'DC_UTP', 'HH_UTP', 'DC_PDIR', 'HH_PDIR', 'DC_DIR',\n",
              "       'HH_DIR', 'DC_OES', 'HH_OES', 'DC_OF', 'HH_OF', 'DC_JUTP', 'HH_JUTP',\n",
              "       'DC_IG', 'HH_IG', 'DC_OR', 'HH_OR', 'DC_DIR_SOST', 'HH_DIR_SOST',\n",
              "       'DC_TP_SOST', 'HH_TP_SOST', 'DC_SUP_SOST', 'HH_SUP_SOST', 'DC_SUBDIR',\n",
              "       'HH_SUBDIR', 'DC_PROF_ENC', 'HH_PROF_ENC', 'DC_EDUC_TRAD',\n",
              "       'HH_EDUC_TRAD', 'DC_TOT', 'HH_TOT'],\n",
              "      dtype='object')"
            ]
          },
          "execution_count": 5,
          "metadata": {},
          "output_type": "execute_result"
        }
      ],
      "source": [
        "df.columns"
      ]
    },
    {
      "cell_type": "code",
      "execution_count": 6,
      "metadata": {},
      "outputs": [
        {
          "data": {
            "text/html": [
              "<div>\n",
              "<style scoped>\n",
              "    .dataframe tbody tr th:only-of-type {\n",
              "        vertical-align: middle;\n",
              "    }\n",
              "\n",
              "    .dataframe tbody tr th {\n",
              "        vertical-align: top;\n",
              "    }\n",
              "\n",
              "    .dataframe thead th {\n",
              "        text-align: right;\n",
              "    }\n",
              "</style>\n",
              "<table border=\"1\" class=\"dataframe\">\n",
              "  <thead>\n",
              "    <tr style=\"text-align: right;\">\n",
              "      <th></th>\n",
              "      <th>AGNO</th>\n",
              "      <th>RBD</th>\n",
              "      <th>DGV_RBD</th>\n",
              "      <th>COD_REG_RBD</th>\n",
              "      <th>COD_PRO_RBD</th>\n",
              "      <th>COD_COM_RBD</th>\n",
              "      <th>COD_DEPROV_RBD</th>\n",
              "      <th>COD_DEPE</th>\n",
              "      <th>COD_DEPE2</th>\n",
              "      <th>RURAL_RBD</th>\n",
              "      <th>...</th>\n",
              "      <th>DC_SUP_SOST</th>\n",
              "      <th>HH_SUP_SOST</th>\n",
              "      <th>DC_SUBDIR</th>\n",
              "      <th>HH_SUBDIR</th>\n",
              "      <th>DC_PROF_ENC</th>\n",
              "      <th>HH_PROF_ENC</th>\n",
              "      <th>DC_EDUC_TRAD</th>\n",
              "      <th>HH_EDUC_TRAD</th>\n",
              "      <th>DC_TOT</th>\n",
              "      <th>HH_TOT</th>\n",
              "    </tr>\n",
              "  </thead>\n",
              "  <tbody>\n",
              "    <tr>\n",
              "      <th>count</th>\n",
              "      <td>16654.0</td>\n",
              "      <td>16654.000000</td>\n",
              "      <td>16654.000000</td>\n",
              "      <td>16654.000000</td>\n",
              "      <td>16654.000000</td>\n",
              "      <td>16654.000000</td>\n",
              "      <td>16654.000000</td>\n",
              "      <td>16654.000000</td>\n",
              "      <td>16654.000000</td>\n",
              "      <td>16654.000000</td>\n",
              "      <td>...</td>\n",
              "      <td>16654.000000</td>\n",
              "      <td>16654.000000</td>\n",
              "      <td>16654.000000</td>\n",
              "      <td>16654.000000</td>\n",
              "      <td>16654.000000</td>\n",
              "      <td>16654.000000</td>\n",
              "      <td>16654.000000</td>\n",
              "      <td>16654.000000</td>\n",
              "      <td>16654.000000</td>\n",
              "      <td>16654.000000</td>\n",
              "    </tr>\n",
              "    <tr>\n",
              "      <th>mean</th>\n",
              "      <td>2023.0</td>\n",
              "      <td>13463.826768</td>\n",
              "      <td>4.508767</td>\n",
              "      <td>9.245407</td>\n",
              "      <td>94.462231</td>\n",
              "      <td>9452.490393</td>\n",
              "      <td>91.813919</td>\n",
              "      <td>2.813859</td>\n",
              "      <td>1.884532</td>\n",
              "      <td>0.295905</td>\n",
              "      <td>...</td>\n",
              "      <td>0.005764</td>\n",
              "      <td>0.213042</td>\n",
              "      <td>0.048397</td>\n",
              "      <td>2.024018</td>\n",
              "      <td>0.123394</td>\n",
              "      <td>5.352408</td>\n",
              "      <td>0.041852</td>\n",
              "      <td>1.162243</td>\n",
              "      <td>16.746607</td>\n",
              "      <td>625.700492</td>\n",
              "    </tr>\n",
              "    <tr>\n",
              "      <th>std</th>\n",
              "      <td>0.0</td>\n",
              "      <td>10676.369828</td>\n",
              "      <td>2.872668</td>\n",
              "      <td>3.813839</td>\n",
              "      <td>37.829669</td>\n",
              "      <td>3785.177284</td>\n",
              "      <td>36.277812</td>\n",
              "      <td>1.026080</td>\n",
              "      <td>0.928506</td>\n",
              "      <td>0.456462</td>\n",
              "      <td>...</td>\n",
              "      <td>0.082537</td>\n",
              "      <td>3.277349</td>\n",
              "      <td>0.249541</td>\n",
              "      <td>10.606641</td>\n",
              "      <td>0.328899</td>\n",
              "      <td>14.313592</td>\n",
              "      <td>0.275703</td>\n",
              "      <td>9.611569</td>\n",
              "      <td>23.108197</td>\n",
              "      <td>892.985992</td>\n",
              "    </tr>\n",
              "    <tr>\n",
              "      <th>min</th>\n",
              "      <td>2023.0</td>\n",
              "      <td>1.000000</td>\n",
              "      <td>0.000000</td>\n",
              "      <td>1.000000</td>\n",
              "      <td>11.000000</td>\n",
              "      <td>1101.000000</td>\n",
              "      <td>11.000000</td>\n",
              "      <td>1.000000</td>\n",
              "      <td>1.000000</td>\n",
              "      <td>0.000000</td>\n",
              "      <td>...</td>\n",
              "      <td>0.000000</td>\n",
              "      <td>0.000000</td>\n",
              "      <td>0.000000</td>\n",
              "      <td>0.000000</td>\n",
              "      <td>0.000000</td>\n",
              "      <td>0.000000</td>\n",
              "      <td>0.000000</td>\n",
              "      <td>0.000000</td>\n",
              "      <td>0.000000</td>\n",
              "      <td>0.000000</td>\n",
              "    </tr>\n",
              "    <tr>\n",
              "      <th>25%</th>\n",
              "      <td>2023.0</td>\n",
              "      <td>5012.500000</td>\n",
              "      <td>2.000000</td>\n",
              "      <td>6.000000</td>\n",
              "      <td>61.000000</td>\n",
              "      <td>6116.000000</td>\n",
              "      <td>61.000000</td>\n",
              "      <td>2.000000</td>\n",
              "      <td>1.000000</td>\n",
              "      <td>0.000000</td>\n",
              "      <td>...</td>\n",
              "      <td>0.000000</td>\n",
              "      <td>0.000000</td>\n",
              "      <td>0.000000</td>\n",
              "      <td>0.000000</td>\n",
              "      <td>0.000000</td>\n",
              "      <td>0.000000</td>\n",
              "      <td>0.000000</td>\n",
              "      <td>0.000000</td>\n",
              "      <td>0.000000</td>\n",
              "      <td>0.000000</td>\n",
              "    </tr>\n",
              "    <tr>\n",
              "      <th>50%</th>\n",
              "      <td>2023.0</td>\n",
              "      <td>10443.500000</td>\n",
              "      <td>5.000000</td>\n",
              "      <td>9.000000</td>\n",
              "      <td>91.000000</td>\n",
              "      <td>9117.000000</td>\n",
              "      <td>92.000000</td>\n",
              "      <td>3.000000</td>\n",
              "      <td>2.000000</td>\n",
              "      <td>0.000000</td>\n",
              "      <td>...</td>\n",
              "      <td>0.000000</td>\n",
              "      <td>0.000000</td>\n",
              "      <td>0.000000</td>\n",
              "      <td>0.000000</td>\n",
              "      <td>0.000000</td>\n",
              "      <td>0.000000</td>\n",
              "      <td>0.000000</td>\n",
              "      <td>0.000000</td>\n",
              "      <td>6.000000</td>\n",
              "      <td>219.000000</td>\n",
              "    </tr>\n",
              "    <tr>\n",
              "      <th>75%</th>\n",
              "      <td>2023.0</td>\n",
              "      <td>20328.750000</td>\n",
              "      <td>7.000000</td>\n",
              "      <td>13.000000</td>\n",
              "      <td>131.000000</td>\n",
              "      <td>13119.000000</td>\n",
              "      <td>133.000000</td>\n",
              "      <td>3.000000</td>\n",
              "      <td>2.000000</td>\n",
              "      <td>1.000000</td>\n",
              "      <td>...</td>\n",
              "      <td>0.000000</td>\n",
              "      <td>0.000000</td>\n",
              "      <td>0.000000</td>\n",
              "      <td>0.000000</td>\n",
              "      <td>0.000000</td>\n",
              "      <td>0.000000</td>\n",
              "      <td>0.000000</td>\n",
              "      <td>0.000000</td>\n",
              "      <td>26.000000</td>\n",
              "      <td>950.000000</td>\n",
              "    </tr>\n",
              "    <tr>\n",
              "      <th>max</th>\n",
              "      <td>2023.0</td>\n",
              "      <td>42192.000000</td>\n",
              "      <td>9.000000</td>\n",
              "      <td>16.000000</td>\n",
              "      <td>163.000000</td>\n",
              "      <td>16305.000000</td>\n",
              "      <td>151.000000</td>\n",
              "      <td>6.000000</td>\n",
              "      <td>5.000000</td>\n",
              "      <td>1.000000</td>\n",
              "      <td>...</td>\n",
              "      <td>2.000000</td>\n",
              "      <td>88.000000</td>\n",
              "      <td>7.000000</td>\n",
              "      <td>289.000000</td>\n",
              "      <td>1.000000</td>\n",
              "      <td>44.000000</td>\n",
              "      <td>13.000000</td>\n",
              "      <td>548.000000</td>\n",
              "      <td>255.000000</td>\n",
              "      <td>11192.000000</td>\n",
              "    </tr>\n",
              "  </tbody>\n",
              "</table>\n",
              "<p>8 rows × 43 columns</p>\n",
              "</div>"
            ],
            "text/plain": [
              "          AGNO           RBD       DGV_RBD   COD_REG_RBD   COD_PRO_RBD  \\\n",
              "count  16654.0  16654.000000  16654.000000  16654.000000  16654.000000   \n",
              "mean    2023.0  13463.826768      4.508767      9.245407     94.462231   \n",
              "std        0.0  10676.369828      2.872668      3.813839     37.829669   \n",
              "min     2023.0      1.000000      0.000000      1.000000     11.000000   \n",
              "25%     2023.0   5012.500000      2.000000      6.000000     61.000000   \n",
              "50%     2023.0  10443.500000      5.000000      9.000000     91.000000   \n",
              "75%     2023.0  20328.750000      7.000000     13.000000    131.000000   \n",
              "max     2023.0  42192.000000      9.000000     16.000000    163.000000   \n",
              "\n",
              "        COD_COM_RBD  COD_DEPROV_RBD      COD_DEPE     COD_DEPE2     RURAL_RBD  \\\n",
              "count  16654.000000    16654.000000  16654.000000  16654.000000  16654.000000   \n",
              "mean    9452.490393       91.813919      2.813859      1.884532      0.295905   \n",
              "std     3785.177284       36.277812      1.026080      0.928506      0.456462   \n",
              "min     1101.000000       11.000000      1.000000      1.000000      0.000000   \n",
              "25%     6116.000000       61.000000      2.000000      1.000000      0.000000   \n",
              "50%     9117.000000       92.000000      3.000000      2.000000      0.000000   \n",
              "75%    13119.000000      133.000000      3.000000      2.000000      1.000000   \n",
              "max    16305.000000      151.000000      6.000000      5.000000      1.000000   \n",
              "\n",
              "       ...   DC_SUP_SOST   HH_SUP_SOST     DC_SUBDIR     HH_SUBDIR  \\\n",
              "count  ...  16654.000000  16654.000000  16654.000000  16654.000000   \n",
              "mean   ...      0.005764      0.213042      0.048397      2.024018   \n",
              "std    ...      0.082537      3.277349      0.249541     10.606641   \n",
              "min    ...      0.000000      0.000000      0.000000      0.000000   \n",
              "25%    ...      0.000000      0.000000      0.000000      0.000000   \n",
              "50%    ...      0.000000      0.000000      0.000000      0.000000   \n",
              "75%    ...      0.000000      0.000000      0.000000      0.000000   \n",
              "max    ...      2.000000     88.000000      7.000000    289.000000   \n",
              "\n",
              "        DC_PROF_ENC   HH_PROF_ENC  DC_EDUC_TRAD  HH_EDUC_TRAD        DC_TOT  \\\n",
              "count  16654.000000  16654.000000  16654.000000  16654.000000  16654.000000   \n",
              "mean       0.123394      5.352408      0.041852      1.162243     16.746607   \n",
              "std        0.328899     14.313592      0.275703      9.611569     23.108197   \n",
              "min        0.000000      0.000000      0.000000      0.000000      0.000000   \n",
              "25%        0.000000      0.000000      0.000000      0.000000      0.000000   \n",
              "50%        0.000000      0.000000      0.000000      0.000000      6.000000   \n",
              "75%        0.000000      0.000000      0.000000      0.000000     26.000000   \n",
              "max        1.000000     44.000000     13.000000    548.000000    255.000000   \n",
              "\n",
              "             HH_TOT  \n",
              "count  16654.000000  \n",
              "mean     625.700492  \n",
              "std      892.985992  \n",
              "min        0.000000  \n",
              "25%        0.000000  \n",
              "50%      219.000000  \n",
              "75%      950.000000  \n",
              "max    11192.000000  \n",
              "\n",
              "[8 rows x 43 columns]"
            ]
          },
          "execution_count": 6,
          "metadata": {},
          "output_type": "execute_result"
        }
      ],
      "source": [
        "df.describe()"
      ]
    },
    {
      "cell_type": "code",
      "execution_count": 5,
      "metadata": {},
      "outputs": [
        {
          "data": {
            "text/plain": [
              "AGNO               0\n",
              "RBD                0\n",
              "DGV_RBD            0\n",
              "NOM_RBD           30\n",
              "COD_REG_RBD        0\n",
              "NOM_REG_RBD_A      0\n",
              "COD_PRO_RBD        0\n",
              "COD_COM_RBD        0\n",
              "NOM_COM_RBD        0\n",
              "COD_DEPROV_RBD     0\n",
              "NOM_DEPROV_RBD     0\n",
              "COD_DEPE           0\n",
              "COD_DEPE2          0\n",
              "RURAL_RBD          0\n",
              "ESTADO_ESTAB       0\n",
              "DC_A               0\n",
              "HH_A               0\n",
              "DC_UTP             0\n",
              "HH_UTP             0\n",
              "DC_PDIR            0\n",
              "HH_PDIR            0\n",
              "DC_DIR             0\n",
              "HH_DIR             0\n",
              "DC_OES             0\n",
              "HH_OES             0\n",
              "DC_OF              0\n",
              "HH_OF              0\n",
              "DC_JUTP            0\n",
              "HH_JUTP            0\n",
              "DC_IG              0\n",
              "HH_IG              0\n",
              "DC_OR              0\n",
              "HH_OR              0\n",
              "DC_DIR_SOST        0\n",
              "HH_DIR_SOST        0\n",
              "DC_TP_SOST         0\n",
              "HH_TP_SOST         0\n",
              "DC_SUP_SOST        0\n",
              "HH_SUP_SOST        0\n",
              "DC_SUBDIR          0\n",
              "HH_SUBDIR          0\n",
              "DC_PROF_ENC        0\n",
              "HH_PROF_ENC        0\n",
              "DC_EDUC_TRAD       0\n",
              "HH_EDUC_TRAD       0\n",
              "DC_TOT             0\n",
              "HH_TOT             0\n",
              "dtype: int64"
            ]
          },
          "execution_count": 5,
          "metadata": {},
          "output_type": "execute_result"
        }
      ],
      "source": [
        "df.isnull().sum()"
      ]
    },
    {
      "cell_type": "markdown",
      "metadata": {},
      "source": [
        "**3.1 Pregunta 0 (descripción de variables)**\n",
        "\n",
        "Con el objetivo de familiarizarse y entender mejor la base de datos, se requiere realizar un analisis de esta."
      ]
    },
    {
      "cell_type": "markdown",
      "metadata": {},
      "source": [
        "1. Generar un grafico por cada una de las variables. El grafico debe tener un tıtulo descriptivo y debe mostrar\n",
        "informacion clara de la variable."
      ]
    },
    {
      "cell_type": "code",
      "execution_count": 8,
      "metadata": {},
      "outputs": [
        {
          "data": {
            "image/png": "[encoded data removed]",
            "text/plain": [
              "<Figure size 640x480 with 1 Axes>"
            ]
          },
          "metadata": {
            "image/png": {
              "height": 480,
              "width": 640
            }
          },
          "output_type": "display_data"
        },
        {
          "data": {
            "text/plain": [
              "<Figure Size: (640 x 480)>"
            ]
          },
          "execution_count": 8,
          "metadata": {},
          "output_type": "execute_result"
        }
      ],
      "source": [
        "#1\n",
        "(ggplot(df)+\n",
        " aes(x=\"AGNO\",y=\"..count..\")+\n",
        " geom_bar(fill=\"blue\")\n",
        ")"
      ]
    },
    {
      "cell_type": "code",
      "execution_count": 9,
      "metadata": {},
      "outputs": [
        {
          "data": {
            "image/png": "[encoded data removed]",
            "text/plain": [
              "<Figure size 640x480 with 1 Axes>"
            ]
          },
          "metadata": {
            "image/png": {
              "height": 480,
              "width": 640
            }
          },
          "output_type": "display_data"
        },
        {
          "data": {
            "text/plain": [
              "<Figure Size: (640 x 480)>"
            ]
          },
          "execution_count": 9,
          "metadata": {},
          "output_type": "execute_result"
        }
      ],
      "source": [
        "(ggplot(df)+\n",
        " aes(x=\"RBD\")+\n",
        " geom_bar(color=\"red\",fill=\"red\")+\n",
        " theme_linedraw()\n",
        ")"
      ]
    },
    {
      "cell_type": "code",
      "execution_count": null,
      "metadata": {},
      "outputs": [
        {
          "data": {
            "image/png": "[encoded data removed]",
            "text/plain": [
              "<Figure size 640x480 with 1 Axes>"
            ]
          },
          "metadata": {
            "image/png": {
              "height": 480,
              "width": 640
            }
          },
          "output_type": "display_data"
        },
        {
          "data": {
            "text/plain": [
              "<Figure Size: (640 x 480)>"
            ]
          },
          "execution_count": 14,
          "metadata": {},
          "output_type": "execute_result"
        }
      ],
      "source": [
        "#3\n",
        "(ggplot(df)+\n",
        " aes(x=\"DGV_RBD\",y=\"..count..\")+\n",
        " geom_bar(fill=\"blue\")+\n",
        " theme(axis_text_x=element_text(angle=90,hjust=1)))\n"
      ]
    },
    {
      "cell_type": "code",
      "execution_count": null,
      "metadata": {},
      "outputs": [
        {
          "data": {
            "image/png": "[encoded data removed]",
            "text/plain": [
              "<Figure size 640x480 with 1 Axes>"
            ]
          },
          "metadata": {
            "image/png": {
              "height": 480,
              "width": 640
            }
          },
          "output_type": "display_data"
        },
        {
          "data": {
            "text/plain": [
              "<Figure Size: (640 x 480)>"
            ]
          },
          "execution_count": 15,
          "metadata": {},
          "output_type": "execute_result"
        }
      ],
      "source": [
        "(ggplot(df)+\n",
        " aes(x=\"NOM_RBD\")+\n",
        " geom_bar(color=\"red\",fill=\"red\")+\n",
        " theme_linedraw()\n",
        ")"
      ]
    },
    {
      "cell_type": "markdown",
      "metadata": {},
      "source": [
        "2. Se debe indicar por cada una de las variables su tipo (cuantitativa o cualitativa) justificando su decision. Se\n",
        "debe recordar que el tipo de variable depende de su naturaleza, no del formato en el que se encuentre en la\n",
        "base de datos."
      ]
    },
    {
      "cell_type": "markdown",
      "metadata": {},
      "source": [
        "**LAS VARIABLES SON DE TIPO:**\n",
        "\n",
        "AGNO: XX\n",
        "\n",
        "RBD: XX\n",
        "\n",
        "DGV_RBD: XX\n",
        "\n",
        "RBD: XX\n",
        "\n",
        "RBD: XX\n",
        "\n",
        "NOM_RBD: XX\n",
        "\n",
        "COD_REG_RBD: XX\n",
        "\n",
        "NOM_REG_RBD_A: XX\n",
        "\n"
      ]
    },
    {
      "cell_type": "markdown",
      "metadata": {},
      "source": [
        "**3.2 Pregunta 1 (test de independencia)**\n",
        "\n",
        "Los docentes UTP (Unidad Tecnico Pedagogica) en Chile son profesionales de la educacion encargados de la coordinacion pedagogica y tecnica en las instituciones educativas. Se dedican a la planificacion, evaluacion y seguimiento del rendimiento academico de los estudiantes, ofrecen apoyo y orientacion a otros docentes, participan en el desarrollo profesional y gestionan aspectos curriculares. Tambien mantienen comunicacion con los padres para informarles sobre el progreso de los estudiantes, desempeñando un papel fundamental en la mejora de la calidad educativa en\n",
        "el paıs."
      ]
    },
    {
      "cell_type": "markdown",
      "metadata": {},
      "source": [
        "1. Obtenga un grafico apropiado que le permita estudiar la distribucion del numero de docentes pertenecientes a\n",
        "la planta UTP en los establecimientos educacionales de sus regiones. Discuta las caracterısticas mas relevantes\n",
        "presentes en sus graficos"
      ]
    },
    {
      "cell_type": "code",
      "execution_count": null,
      "metadata": {},
      "outputs": [],
      "source": []
    },
    {
      "cell_type": "markdown",
      "metadata": {},
      "source": [
        "2. Al Ministerio de Educacion le preocupa que existan diferencias en el numero de docentes UTP entre los distintos tipos de establecimientos (municipales, particulares subvencionados y particulares pagados). Implemente un test de independencia chi-cuadrado que le permita concluir si existe dependencia entre el tipo de establecimiento: (solo considere municipales, particulares subvencionados y particulares pagados) y el numero\n",
        "de docentes UTP. En particular:\n",
        "\n",
        "• Reporte la tabla de frecuencias observadas y esperadas.\n",
        "\n",
        "• Reporte el p-valor obtenido y concluya con un valor α = 0.05. Interprete sus resultados."
      ]
    },
    {
      "cell_type": "code",
      "execution_count": null,
      "metadata": {},
      "outputs": [],
      "source": []
    },
    {
      "cell_type": "markdown",
      "metadata": {},
      "source": [
        "3. Obtenga un grafico apropiado para mostrar la distribucion del numero de docentes de planta UTP por establecimiento. Finalmente, muestre como esa distribucion cambia (o no) para los distintos establecimientos: Municipales, particulares suvencionados y particulares pagados. Incluya una breve discusion sobre si lo que observa en sus graficos concuerda con lo obtenido en la implementacion del test anterior."
      ]
    },
    {
      "cell_type": "code",
      "execution_count": null,
      "metadata": {},
      "outputs": [],
      "source": []
    },
    {
      "cell_type": "markdown",
      "metadata": {},
      "source": [
        "**3.3 Pregunta 2 (test de bondad de ajuste)**\n",
        "\n",
        "En Chile, las “Horas de Contrato” (variable HH_A) para los docentes de aula se refieren a la cantidad de horas que los\n",
        "profesores est´an contratados para trabajar en una institucion educativa durante un perıodo especıfico, generalmente\n",
        "un año escolar. La cantidad de horas de contrato puede variar segun el nivel educativo y el tipo de establecimiento\n",
        "educacional.\n",
        "En el contexto de un estudio educativo, se plantea la hipotesis de que las Horas de Contrato de los Docentes\n",
        "de Aula siguen una distribucion exponencial. Para investigar esta afirmacion, sigua los siguientes pasos:"
      ]
    },
    {
      "cell_type": "markdown",
      "metadata": {},
      "source": [
        "1. Analisis Visual: Genere un histograma de densidad para la variable en cuestion y añada en este grafico la funcion de densidad asociada a la distribucion exponencial. Disculta sobre la factibilidad de la hipotesis planteada en el estudio utilizando el histograma generado.\n",
        "\n",
        "**Hint**: Recuerde que la densidad de la distribucion exponencial esta dada por:\n",
        "f(x) = λ exp{−λx},\n",
        "y que para la construccion de su grafico es razonable estimar el parametro λ usando X¯ −1 donde X¯ representa el promedio de HH_A."
      ]
    },
    {
      "cell_type": "code",
      "execution_count": null,
      "metadata": {},
      "outputs": [],
      "source": []
    },
    {
      "cell_type": "markdown",
      "metadata": {},
      "source": [
        "2. Evaluacion Estadıstica: Implemente un test de hipotesis de bondad de ajuste con un nivel de significancia de α = 0.05 que le permita concluir sobre la hipotesis planteada en el estudio. Recuerde que el test de bondad\n",
        "de ajuste le permite analizar si los datos se comportan como una distribucion en especıfico."
      ]
    },
    {
      "cell_type": "code",
      "execution_count": null,
      "metadata": {},
      "outputs": [],
      "source": []
    },
    {
      "cell_type": "markdown",
      "metadata": {},
      "source": [
        "3.4 Pregunta 3 (regresion lineal simple y multiple)"
      ]
    },
    {
      "cell_type": "markdown",
      "metadata": {},
      "source": [
        "1. Regresion lineal simple: Implemente un modelo de regresion lineal simple que le permita modelar las\n",
        "Horas de Contrato de los Docentes de Aula (variable HH_A) en funcion del Total de Docentes de aula (variable\n",
        "DC_A).\n",
        "Los pasos que debera realizar para dar respuesta a esta pregunta son:\n",
        "\n",
        "(a) Obtenga la correlacion entre las variables involucradas.\n",
        "\n",
        "(b) Visualize la relacion entre las variables\n",
        "\n",
        "(c) Separe los datos en conjuntos de datos de entrenamiento y testeo. Luego ajuste el modelo de regresion.\n",
        "\n",
        "(d) Muestre en una tabla los coeficientes obtenidos (Intercepto y pendiente). Interprete sus resultados.\n",
        "\n",
        "(e) Visualize el modelo de regresion utilizando los coeficientes encontrados en el paso anterior.\n",
        "\n",
        "(f) Obtenga y comente el coeficiente de determinacion obtenido.\n",
        "\n",
        "(g) Evalue su modelo utilizando los datos del set de testeo. \n",
        "Para esto, calcule el MSE y RMSE predictivos\n",
        "(error cuadratico medio y raız del error cuadratico medio). ¿Que significan los valores obtenidos?"
      ]
    },
    {
      "cell_type": "code",
      "execution_count": null,
      "metadata": {},
      "outputs": [],
      "source": []
    },
    {
      "cell_type": "markdown",
      "metadata": {},
      "source": [
        "2. Regresion lineal multiple: En esta pregunta se le pide que implemente un modelo de regresion lineal\n",
        "multiple para modelar las Horas de Contrato de los Docentes de Aula (variable HH_A) en funcion del Total\n",
        "de Docentes de aula (variable DC_A) y de tres variables mas que usted debe escoger. Para escoger\n",
        "estas variables usted debe usar criterios claros y objetivos (por ejemplo, puede elegir las variables que mas se\n",
        "correlacionan con la variable dependiente).\n",
        "\n",
        "Utilizando la misma separacion de entrenamiento y testing realizada en el ıtem anterior responda: ¿Que\n",
        "impacto tienen las variable adicionales en el rendimiento de su modelo? Comente en funcion de los nuevas\n",
        "metricas obtenidas (error cuadratico medio y R2)."
      ]
    },
    {
      "cell_type": "code",
      "execution_count": null,
      "metadata": {},
      "outputs": [],
      "source": []
    },
    {
      "cell_type": "markdown",
      "metadata": {},
      "source": [
        "**3.5 Pregunta 4 (clasificacion y validacion)**\n",
        "\n",
        "En esta pregunta se le pide que implemente dos modelos de clasificacion: Support Vector Machine y Regresion\n",
        "Logıstica. El objetivo es generar un modelo que prediga si la variable Horas de Contrato de los Docentes de Aula\n",
        "(variable HH A) es mayor a 160 horas. Los modelos deben ser implementados usando validacion simple y K-Fold\n",
        "Cross validation. Los pasos para responder la pregunta son:"
      ]
    },
    {
      "cell_type": "markdown",
      "metadata": {},
      "source": [
        "1. Genere una nueva variable a partir de Horas de Contrato de los Docentes de Aula (variable HH A) que tome\n",
        "el valor de 1 si supera las 160 horas, y tenga valor 0 si es menor o igual a este valor."
      ]
    },
    {
      "cell_type": "code",
      "execution_count": 6,
      "metadata": {},
      "outputs": [],
      "source": [
        "df.loc[df[\"HH_A\"] <= 160, \"HH_A_BINARIO\"] = 0\n",
        "df.loc[df[\"HH_A\"] > 160, \"HH_A_BINARIO\"] = 1"
      ]
    },
    {
      "cell_type": "code",
      "execution_count": 7,
      "metadata": {},
      "outputs": [
        {
          "data": {
            "text/plain": [
              "array([1., 0.])"
            ]
          },
          "execution_count": 7,
          "metadata": {},
          "output_type": "execute_result"
        }
      ],
      "source": [
        "df[\"HH_A_BINARIO\"].unique()"
      ]
    },
    {
      "cell_type": "markdown",
      "metadata": {},
      "source": [
        "2. Seleccione la variable Total de Docentes de aula (variable DC A) y las tres mejores variables. Para escoger\n",
        "estas variables usted debe justificar usando criterios claros y objetivos."
      ]
    },
    {
      "cell_type": "code",
      "execution_count": 8,
      "metadata": {},
      "outputs": [],
      "source": [
        "from sklearn import metrics\n",
        "from sklearn.model_selection import cross_val_score\n",
        "\n",
        "from sklearn.linear_model import LinearRegression\n",
        "from sklearn.ensemble import RandomForestRegressor\n",
        "from sklearn.svm import SVR"
      ]
    },
    {
      "cell_type": "code",
      "execution_count": 17,
      "metadata": {},
      "outputs": [
        {
          "data": {
            "text/plain": [
              "HH_A_BINARIO      1.000000\n",
              "HH_DIR            0.748918\n",
              "DC_DIR            0.726713\n",
              "DC_TOT            0.668123\n",
              "HH_TOT            0.658639\n",
              "DC_A              0.656248\n",
              "HH_A              0.645110\n",
              "ESTADO_ESTAB      0.589556\n",
              "HH_JUTP           0.524851\n",
              "DC_JUTP           0.520491\n",
              "HH_IG             0.448350\n",
              "DC_IG             0.447983\n",
              "DC_OES            0.378258\n",
              "HH_OES            0.377313\n",
              "DC_OR             0.321871\n",
              "HH_OR             0.319294\n",
              "HH_UTP            0.304539\n",
              "DC_UTP            0.304521\n",
              "DC_PDIR           0.302200\n",
              "HH_PDIR           0.300335\n",
              "RURAL_RBD         0.223394\n",
              "DC_TP_SOST        0.194986\n",
              "HH_TP_SOST        0.194454\n",
              "HH_SUBDIR         0.179916\n",
              "DC_SUBDIR         0.178601\n",
              "DC_PROF_ENC       0.149203\n",
              "HH_PROF_ENC       0.147387\n",
              "DC_OF             0.129640\n",
              "HH_OF             0.122398\n",
              "RBD               0.121589\n",
              "HH_EDUC_TRAD      0.089983\n",
              "DC_DIR_SOST       0.088070\n",
              "HH_DIR_SOST       0.087833\n",
              "DC_EDUC_TRAD      0.081972\n",
              "DC_SUP_SOST       0.063105\n",
              "HH_SUP_SOST       0.060011\n",
              "COD_DEPE          0.034987\n",
              "COD_DEPE2         0.013955\n",
              "COD_REG_RBD       0.010133\n",
              "COD_PRO_RBD       0.009278\n",
              "COD_COM_RBD       0.009270\n",
              "DGV_RBD           0.003760\n",
              "COD_DEPROV_RBD    0.002405\n",
              "AGNO                   NaN\n",
              "Name: HH_A_BINARIO, dtype: float64"
            ]
          },
          "execution_count": 17,
          "metadata": {},
          "output_type": "execute_result"
        }
      ],
      "source": [
        "variables_cuantitativas = df.select_dtypes(include=['int', 'float'])\n",
        "corr_matrix = variables_cuantitativas.corr()\n",
        "corr_matrix['HH_A_BINARIO'].abs().sort_values(ascending=False)"
      ]
    },
    {
      "cell_type": "markdown",
      "metadata": {},
      "source": [
        "Seleccionamos las variables HH_DIR, DC_DIR Y DC_TOT, al ser las que tienen mayor correlación con la variable de interes"
      ]
    },
    {
      "cell_type": "markdown",
      "metadata": {},
      "source": [
        "3. Genere un nuevo dataframe que contenga: la variable Total de Docentes de aula, las 3 variables que escogio\n",
        "y la nueva variable generada"
      ]
    },
    {
      "cell_type": "code",
      "execution_count": 22,
      "metadata": {},
      "outputs": [
        {
          "data": {
            "text/html": [
              "<div>\n",
              "<style scoped>\n",
              "    .dataframe tbody tr th:only-of-type {\n",
              "        vertical-align: middle;\n",
              "    }\n",
              "\n",
              "    .dataframe tbody tr th {\n",
              "        vertical-align: top;\n",
              "    }\n",
              "\n",
              "    .dataframe thead th {\n",
              "        text-align: right;\n",
              "    }\n",
              "</style>\n",
              "<table border=\"1\" class=\"dataframe\">\n",
              "  <thead>\n",
              "    <tr style=\"text-align: right;\">\n",
              "      <th></th>\n",
              "      <th>HH_A_BINARIO</th>\n",
              "      <th>HH_DIR</th>\n",
              "      <th>DC_DIR</th>\n",
              "      <th>DC_TOT</th>\n",
              "      <th>DC_A</th>\n",
              "    </tr>\n",
              "  </thead>\n",
              "  <tbody>\n",
              "    <tr>\n",
              "      <th>0</th>\n",
              "      <td>1.0</td>\n",
              "      <td>44</td>\n",
              "      <td>1</td>\n",
              "      <td>71</td>\n",
              "      <td>66</td>\n",
              "    </tr>\n",
              "    <tr>\n",
              "      <th>1</th>\n",
              "      <td>1.0</td>\n",
              "      <td>44</td>\n",
              "      <td>1</td>\n",
              "      <td>15</td>\n",
              "      <td>11</td>\n",
              "    </tr>\n",
              "    <tr>\n",
              "      <th>2</th>\n",
              "      <td>1.0</td>\n",
              "      <td>44</td>\n",
              "      <td>1</td>\n",
              "      <td>27</td>\n",
              "      <td>25</td>\n",
              "    </tr>\n",
              "    <tr>\n",
              "      <th>3</th>\n",
              "      <td>1.0</td>\n",
              "      <td>44</td>\n",
              "      <td>1</td>\n",
              "      <td>69</td>\n",
              "      <td>54</td>\n",
              "    </tr>\n",
              "    <tr>\n",
              "      <th>4</th>\n",
              "      <td>1.0</td>\n",
              "      <td>44</td>\n",
              "      <td>1</td>\n",
              "      <td>63</td>\n",
              "      <td>51</td>\n",
              "    </tr>\n",
              "    <tr>\n",
              "      <th>...</th>\n",
              "      <td>...</td>\n",
              "      <td>...</td>\n",
              "      <td>...</td>\n",
              "      <td>...</td>\n",
              "      <td>...</td>\n",
              "    </tr>\n",
              "    <tr>\n",
              "      <th>16649</th>\n",
              "      <td>0.0</td>\n",
              "      <td>0</td>\n",
              "      <td>0</td>\n",
              "      <td>0</td>\n",
              "      <td>0</td>\n",
              "    </tr>\n",
              "    <tr>\n",
              "      <th>16650</th>\n",
              "      <td>0.0</td>\n",
              "      <td>0</td>\n",
              "      <td>0</td>\n",
              "      <td>0</td>\n",
              "      <td>0</td>\n",
              "    </tr>\n",
              "    <tr>\n",
              "      <th>16651</th>\n",
              "      <td>0.0</td>\n",
              "      <td>0</td>\n",
              "      <td>0</td>\n",
              "      <td>0</td>\n",
              "      <td>0</td>\n",
              "    </tr>\n",
              "    <tr>\n",
              "      <th>16652</th>\n",
              "      <td>0.0</td>\n",
              "      <td>0</td>\n",
              "      <td>0</td>\n",
              "      <td>0</td>\n",
              "      <td>0</td>\n",
              "    </tr>\n",
              "    <tr>\n",
              "      <th>16653</th>\n",
              "      <td>0.0</td>\n",
              "      <td>0</td>\n",
              "      <td>0</td>\n",
              "      <td>0</td>\n",
              "      <td>0</td>\n",
              "    </tr>\n",
              "  </tbody>\n",
              "</table>\n",
              "<p>16654 rows × 5 columns</p>\n",
              "</div>"
            ],
            "text/plain": [
              "       HH_A_BINARIO  HH_DIR  DC_DIR  DC_TOT  DC_A\n",
              "0               1.0      44       1      71    66\n",
              "1               1.0      44       1      15    11\n",
              "2               1.0      44       1      27    25\n",
              "3               1.0      44       1      69    54\n",
              "4               1.0      44       1      63    51\n",
              "...             ...     ...     ...     ...   ...\n",
              "16649           0.0       0       0       0     0\n",
              "16650           0.0       0       0       0     0\n",
              "16651           0.0       0       0       0     0\n",
              "16652           0.0       0       0       0     0\n",
              "16653           0.0       0       0       0     0\n",
              "\n",
              "[16654 rows x 5 columns]"
            ]
          },
          "execution_count": 22,
          "metadata": {},
          "output_type": "execute_result"
        }
      ],
      "source": [
        "df_4=df[[\"HH_A_BINARIO\",\"HH_DIR\",\"DC_DIR\",\"DC_TOT\",\"DC_A\"]]\n",
        "df_4"
      ]
    },
    {
      "cell_type": "markdown",
      "metadata": {},
      "source": [
        "4. Con el data frame obtenido, aplique el modelo SVM utilizando la tecnica de validacion simple. Obtenga los\n",
        "valores de las metricas: accuracy, recall, precision y f1 score. Explique como interpretarıa los resultados de\n",
        "estas metricas."
      ]
    },
    {
      "cell_type": "code",
      "execution_count": 35,
      "metadata": {},
      "outputs": [
        {
          "name": "stdout",
          "output_type": "stream",
          "text": [
            "Accuracy:0.968477934554188\n",
            "Recall:0.9623655913978495\n",
            "Precision:0.9745916515426497\n",
            "F1 Score:0.9684400360685301\n"
          ]
        }
      ],
      "source": [
        "from sklearn.model_selection import train_test_split\n",
        "from sklearn.svm import SVC\n",
        "from sklearn.metrics import accuracy_score, recall_score, precision_score, f1_score\n",
        "\n",
        "X = df_4.drop(\"HH_A_BINARIO\", axis=1)  \n",
        "y = df_4[\"HH_A_BINARIO\"] \n",
        "\n",
        "X_train, X_test, y_train, y_test = train_test_split(X, y, test_size=0.2, random_state=42)\n",
        "\n",
        "svm_model = SVC()\n",
        "svm_model.fit(X_train, y_train)\n",
        "\n",
        "y_pred = svm_model.predict(X_test)\n",
        "\n",
        "accuracy = accuracy_score(y_test, y_pred)\n",
        "recall = recall_score(y_test, y_pred)\n",
        "precision = precision_score(y_test, y_pred)\n",
        "f1 = f1_score(y_test, y_pred)\n",
        "\n",
        "print(f\"Accuracy:{accuracy}\\nRecall:{recall}\\nPrecision:{precision}\\nF1 Score:{f1}\")"
      ]
    },
    {
      "cell_type": "markdown",
      "metadata": {},
      "source": [
        "5. Con el data frame obtenido, aplique el modelo Regresion Logıstica utilizando la tecnica de validacion simple.\n",
        "Obtenga los valores de las metricas: accuracy, recall, precision y f1 score. Explique como interpretarıa los\n",
        "resultados de estas metricas."
      ]
    },
    {
      "cell_type": "code",
      "execution_count": 36,
      "metadata": {},
      "outputs": [
        {
          "name": "stdout",
          "output_type": "stream",
          "text": [
            "Accuracy:0.9693785649954968\n",
            "Recall:0.9629629629629629\n",
            "Precision:0.9757869249394673\n",
            "F1 Score:0.9693325315694528\n"
          ]
        }
      ],
      "source": [
        "from sklearn.model_selection import train_test_split\n",
        "from sklearn.linear_model import LogisticRegression\n",
        "from sklearn.metrics import accuracy_score, recall_score, precision_score, f1_score\n",
        "\n",
        "X = df_4.drop(\"HH_A_BINARIO\", axis=1)\n",
        "y = df_4[\"HH_A_BINARIO\"] \n",
        "\n",
        "X_train, X_test, y_train, y_test = train_test_split(X, y, test_size=0.2, random_state=42)\n",
        "\n",
        "logistic_model = LogisticRegression()\n",
        "logistic_model.fit(X_train, y_train)\n",
        "\n",
        "y_pred = logistic_model.predict(X_test)\n",
        "\n",
        "accuracy = accuracy_score(y_test, y_pred)\n",
        "recall = recall_score(y_test, y_pred)\n",
        "precision = precision_score(y_test, y_pred)\n",
        "f1 = f1_score(y_test, y_pred)\n",
        "\n",
        "print(f\"Accuracy:{accuracy}\\nRecall:{recall}\\nPrecision:{precision}\\nF1 Score:{f1}\")"
      ]
    },
    {
      "cell_type": "markdown",
      "metadata": {},
      "source": [
        "6. Mencione la principal deficiencia de aplicar validacion simple aplicada para este caso."
      ]
    },
    {
      "cell_type": "markdown",
      "metadata": {},
      "source": [
        "La principal deficiencia de aplicar la técnica de validación simple es que el modelo aplicado depende en gran medida de la forma en que se realizó la división entre los datos de prueba y de los de predicción.\n",
        "Y si justo la división realizada resulta no ser representativa del conjunto de datos, los resultados del modelo pueden ser sesgados en base a dicha división, resultando en una predicción que no representa el resto de datos\n",
        "Teniendo lo anterior en cuenta la principal deficiencia de la validación simple podría ser la dependencia a como se hizo la división de los datos del modelo."
      ]
    },
    {
      "cell_type": "markdown",
      "metadata": {},
      "source": [
        "7. Con el data frame obtenido, aplique el modelo SVM utilizando la tecnica de validacion cruzada. Obtenga\n",
        "los valores de las metricas: accuracy, recall, precision y f1 score. Determine si su modelo se encuentra sobre\n",
        "entrenado."
      ]
    },
    {
      "cell_type": "code",
      "execution_count": 31,
      "metadata": {},
      "outputs": [
        {
          "name": "stdout",
          "output_type": "stream",
          "text": [
            "Accuracy: 0.9685948271898438\n",
            "Recall: 0.9627169911921827\n",
            "Precision: 0.9736098076842497\n",
            "F1 Score: 0.967961205634736\n"
          ]
        }
      ],
      "source": [
        "from sklearn.model_selection import cross_validate\n",
        "from sklearn.svm import SVC\n",
        "from sklearn.metrics import make_scorer, accuracy_score, recall_score, precision_score, f1_score\n",
        "X = df_4.drop(\"HH_A_BINARIO\", axis=1)  \n",
        "y = df_4[\"HH_A_BINARIO\"] \n",
        "\n",
        "svm_model = SVC()\n",
        "\n",
        "scoring = {\n",
        "    'accuracy': make_scorer(accuracy_score),\n",
        "    'recall': make_scorer(recall_score),\n",
        "    'precision': make_scorer(precision_score),\n",
        "    'f1': make_scorer(f1_score)\n",
        "}\n",
        "\n",
        "cv_results = cross_validate(svm_model, X, y, cv=5, scoring=scoring)\n",
        "\n",
        "print(f\"Accuracy: {cv_results['test_accuracy'].mean()}\")\n",
        "print(f\"Recall: {cv_results['test_recall'].mean()}\")\n",
        "print(f\"Precision: {cv_results['test_precision'].mean()}\")\n",
        "print(f\"F1 Score: {cv_results['test_f1'].mean()}\")"
      ]
    },
    {
      "cell_type": "markdown",
      "metadata": {},
      "source": [
        "8. Con el data frame obtenido, aplique el modelo Regresion Logıstica utilizando la tecnica de validacion cruzada.\n",
        "Obtenga los valores de las metricas: accuracy, recall, precision y f1 score. Determine si su modelo se encuentra\n",
        "sobre entrenado."
      ]
    },
    {
      "cell_type": "code",
      "execution_count": 32,
      "metadata": {},
      "outputs": [
        {
          "name": "stdout",
          "output_type": "stream",
          "text": [
            "Accuracy: 0.9688950012756677\n",
            "Recall: 0.9634431637246242\n",
            "Precision: 0.9735030724734663\n",
            "F1 Score: 0.9682836751272859\n"
          ]
        }
      ],
      "source": [
        "from sklearn.model_selection import cross_validate\n",
        "from sklearn.linear_model import LogisticRegression\n",
        "from sklearn.metrics import make_scorer, accuracy_score, recall_score, precision_score, f1_score\n",
        "\n",
        "X = df_4.drop(\"HH_A_BINARIO\", axis=1)  \n",
        "y = df_4[\"HH_A_BINARIO\"] \n",
        "\n",
        "logistic_model = LogisticRegression()\n",
        "\n",
        "scoring = {\n",
        "    'accuracy': make_scorer(accuracy_score),\n",
        "    'recall': make_scorer(recall_score),\n",
        "    'precision': make_scorer(precision_score),\n",
        "    'f1': make_scorer(f1_score)\n",
        "}\n",
        "\n",
        "cv_results = cross_validate(logistic_model, X, y, cv=5, scoring=scoring)\n",
        "\n",
        "print(f\"Accuracy: {cv_results['test_accuracy'].mean()}\")\n",
        "print(f\"Recall: {cv_results['test_recall'].mean()}\")\n",
        "print(f\"Precision: {cv_results['test_precision'].mean()}\")\n",
        "print(f\"F1 Score: {cv_results['test_f1'].mean()}\")"
      ]
    }
  ],
  "metadata": {
    "kernelspec": {
      "display_name": "Python 3",
      "language": "python",
      "name": "python3"
    },
    "language_info": {
      "codemirror_mode": {
        "name": "ipython",
        "version": 3
      },
      "file_extension": ".py",
      "mimetype": "text/x-python",
      "name": "python",
      "nbconvert_exporter": "python",
      "pygments_lexer": "ipython3",
      "version": "3.11.3"
    }
  },
  "nbformat": 4,
  "nbformat_minor": 2
}
