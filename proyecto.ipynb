{
 "cells": [
  {
   "cell_type": "code",
   "execution_count": 1,
   "metadata": {},
   "outputs": [],
   "source": [
    "import pandas as pd\n",
    "import numpy as np\n"
   ]
  },
  {
   "cell_type": "code",
   "execution_count": 2,
   "metadata": {},
   "outputs": [],
   "source": [
    "from plotnine import *"
   ]
  },
  {
   "cell_type": "code",
   "execution_count": 3,
   "metadata": {},
   "outputs": [],
   "source": [
    "df = pd.read_csv('Base de Datos.csv', delimiter=';')"
   ]
  },
  {
   "cell_type": "code",
   "execution_count": 4,
   "metadata": {},
   "outputs": [
    {
     "data": {
      "text/html": [
       "<div>\n",
       "<style scoped>\n",
       "    .dataframe tbody tr th:only-of-type {\n",
       "        vertical-align: middle;\n",
       "    }\n",
       "\n",
       "    .dataframe tbody tr th {\n",
       "        vertical-align: top;\n",
       "    }\n",
       "\n",
       "    .dataframe thead th {\n",
       "        text-align: right;\n",
       "    }\n",
       "</style>\n",
       "<table border=\"1\" class=\"dataframe\">\n",
       "  <thead>\n",
       "    <tr style=\"text-align: right;\">\n",
       "      <th></th>\n",
       "      <th>AGNO</th>\n",
       "      <th>RBD</th>\n",
       "      <th>DGV_RBD</th>\n",
       "      <th>NOM_RBD</th>\n",
       "      <th>COD_REG_RBD</th>\n",
       "      <th>NOM_REG_RBD_A</th>\n",
       "      <th>COD_PRO_RBD</th>\n",
       "      <th>COD_COM_RBD</th>\n",
       "      <th>NOM_COM_RBD</th>\n",
       "      <th>COD_DEPROV_RBD</th>\n",
       "      <th>...</th>\n",
       "      <th>DC_SUP_SOST</th>\n",
       "      <th>HH_SUP_SOST</th>\n",
       "      <th>DC_SUBDIR</th>\n",
       "      <th>HH_SUBDIR</th>\n",
       "      <th>DC_PROF_ENC</th>\n",
       "      <th>HH_PROF_ENC</th>\n",
       "      <th>DC_EDUC_TRAD</th>\n",
       "      <th>HH_EDUC_TRAD</th>\n",
       "      <th>DC_TOT</th>\n",
       "      <th>HH_TOT</th>\n",
       "    </tr>\n",
       "  </thead>\n",
       "  <tbody>\n",
       "    <tr>\n",
       "      <th>0</th>\n",
       "      <td>2023</td>\n",
       "      <td>1</td>\n",
       "      <td>9</td>\n",
       "      <td>LICEO POLITECNICO ARICA</td>\n",
       "      <td>15</td>\n",
       "      <td>AYP</td>\n",
       "      <td>151</td>\n",
       "      <td>15101</td>\n",
       "      <td>ARICA</td>\n",
       "      <td>151</td>\n",
       "      <td>...</td>\n",
       "      <td>0</td>\n",
       "      <td>0</td>\n",
       "      <td>0</td>\n",
       "      <td>0</td>\n",
       "      <td>0</td>\n",
       "      <td>0</td>\n",
       "      <td>0</td>\n",
       "      <td>0</td>\n",
       "      <td>71</td>\n",
       "      <td>2393</td>\n",
       "    </tr>\n",
       "    <tr>\n",
       "      <th>1</th>\n",
       "      <td>2023</td>\n",
       "      <td>2</td>\n",
       "      <td>7</td>\n",
       "      <td>PARVULARIO LAS ESPIGUITAS</td>\n",
       "      <td>15</td>\n",
       "      <td>AYP</td>\n",
       "      <td>151</td>\n",
       "      <td>15101</td>\n",
       "      <td>ARICA</td>\n",
       "      <td>151</td>\n",
       "      <td>...</td>\n",
       "      <td>0</td>\n",
       "      <td>0</td>\n",
       "      <td>0</td>\n",
       "      <td>0</td>\n",
       "      <td>0</td>\n",
       "      <td>0</td>\n",
       "      <td>0</td>\n",
       "      <td>0</td>\n",
       "      <td>15</td>\n",
       "      <td>530</td>\n",
       "    </tr>\n",
       "    <tr>\n",
       "      <th>2</th>\n",
       "      <td>2023</td>\n",
       "      <td>3</td>\n",
       "      <td>5</td>\n",
       "      <td>ESC. PEDRO VICENTE GUTIERREZ TORRES</td>\n",
       "      <td>15</td>\n",
       "      <td>AYP</td>\n",
       "      <td>151</td>\n",
       "      <td>15101</td>\n",
       "      <td>ARICA</td>\n",
       "      <td>151</td>\n",
       "      <td>...</td>\n",
       "      <td>0</td>\n",
       "      <td>0</td>\n",
       "      <td>0</td>\n",
       "      <td>0</td>\n",
       "      <td>0</td>\n",
       "      <td>0</td>\n",
       "      <td>0</td>\n",
       "      <td>0</td>\n",
       "      <td>27</td>\n",
       "      <td>1078</td>\n",
       "    </tr>\n",
       "    <tr>\n",
       "      <th>3</th>\n",
       "      <td>2023</td>\n",
       "      <td>4</td>\n",
       "      <td>3</td>\n",
       "      <td>LICEO OCTAVIO PALMA PEREZ</td>\n",
       "      <td>15</td>\n",
       "      <td>AYP</td>\n",
       "      <td>151</td>\n",
       "      <td>15101</td>\n",
       "      <td>ARICA</td>\n",
       "      <td>151</td>\n",
       "      <td>...</td>\n",
       "      <td>0</td>\n",
       "      <td>0</td>\n",
       "      <td>0</td>\n",
       "      <td>0</td>\n",
       "      <td>0</td>\n",
       "      <td>0</td>\n",
       "      <td>0</td>\n",
       "      <td>0</td>\n",
       "      <td>69</td>\n",
       "      <td>2727</td>\n",
       "    </tr>\n",
       "    <tr>\n",
       "      <th>4</th>\n",
       "      <td>2023</td>\n",
       "      <td>5</td>\n",
       "      <td>1</td>\n",
       "      <td>JOVINA NARANJO FERNANDEZ</td>\n",
       "      <td>15</td>\n",
       "      <td>AYP</td>\n",
       "      <td>151</td>\n",
       "      <td>15101</td>\n",
       "      <td>ARICA</td>\n",
       "      <td>151</td>\n",
       "      <td>...</td>\n",
       "      <td>0</td>\n",
       "      <td>0</td>\n",
       "      <td>0</td>\n",
       "      <td>0</td>\n",
       "      <td>0</td>\n",
       "      <td>0</td>\n",
       "      <td>0</td>\n",
       "      <td>0</td>\n",
       "      <td>63</td>\n",
       "      <td>2414</td>\n",
       "    </tr>\n",
       "  </tbody>\n",
       "</table>\n",
       "<p>5 rows × 47 columns</p>\n",
       "</div>"
      ],
      "text/plain": [
       "   AGNO  RBD  DGV_RBD                              NOM_RBD  COD_REG_RBD  \\\n",
       "0  2023    1        9              LICEO POLITECNICO ARICA           15   \n",
       "1  2023    2        7            PARVULARIO LAS ESPIGUITAS           15   \n",
       "2  2023    3        5  ESC. PEDRO VICENTE GUTIERREZ TORRES           15   \n",
       "3  2023    4        3            LICEO OCTAVIO PALMA PEREZ           15   \n",
       "4  2023    5        1             JOVINA NARANJO FERNANDEZ           15   \n",
       "\n",
       "  NOM_REG_RBD_A  COD_PRO_RBD  COD_COM_RBD NOM_COM_RBD  COD_DEPROV_RBD  ...  \\\n",
       "0           AYP          151        15101       ARICA             151  ...   \n",
       "1           AYP          151        15101       ARICA             151  ...   \n",
       "2           AYP          151        15101       ARICA             151  ...   \n",
       "3           AYP          151        15101       ARICA             151  ...   \n",
       "4           AYP          151        15101       ARICA             151  ...   \n",
       "\n",
       "  DC_SUP_SOST  HH_SUP_SOST  DC_SUBDIR  HH_SUBDIR  DC_PROF_ENC  HH_PROF_ENC  \\\n",
       "0           0            0          0          0            0            0   \n",
       "1           0            0          0          0            0            0   \n",
       "2           0            0          0          0            0            0   \n",
       "3           0            0          0          0            0            0   \n",
       "4           0            0          0          0            0            0   \n",
       "\n",
       "   DC_EDUC_TRAD  HH_EDUC_TRAD  DC_TOT  HH_TOT  \n",
       "0             0             0      71    2393  \n",
       "1             0             0      15     530  \n",
       "2             0             0      27    1078  \n",
       "3             0             0      69    2727  \n",
       "4             0             0      63    2414  \n",
       "\n",
       "[5 rows x 47 columns]"
      ]
     },
     "execution_count": 4,
     "metadata": {},
     "output_type": "execute_result"
    }
   ],
   "source": [
    "df.head()"
   ]
  },
  {
   "cell_type": "code",
   "execution_count": 5,
   "metadata": {},
   "outputs": [
    {
     "data": {
      "text/plain": [
       "Index(['AGNO', 'RBD', 'DGV_RBD', 'NOM_RBD', 'COD_REG_RBD', 'NOM_REG_RBD_A',\n",
       "       'COD_PRO_RBD', 'COD_COM_RBD', 'NOM_COM_RBD', 'COD_DEPROV_RBD',\n",
       "       'NOM_DEPROV_RBD', 'COD_DEPE', 'COD_DEPE2', 'RURAL_RBD', 'ESTADO_ESTAB',\n",
       "       'DC_A', 'HH_A', 'DC_UTP', 'HH_UTP', 'DC_PDIR', 'HH_PDIR', 'DC_DIR',\n",
       "       'HH_DIR', 'DC_OES', 'HH_OES', 'DC_OF', 'HH_OF', 'DC_JUTP', 'HH_JUTP',\n",
       "       'DC_IG', 'HH_IG', 'DC_OR', 'HH_OR', 'DC_DIR_SOST', 'HH_DIR_SOST',\n",
       "       'DC_TP_SOST', 'HH_TP_SOST', 'DC_SUP_SOST', 'HH_SUP_SOST', 'DC_SUBDIR',\n",
       "       'HH_SUBDIR', 'DC_PROF_ENC', 'HH_PROF_ENC', 'DC_EDUC_TRAD',\n",
       "       'HH_EDUC_TRAD', 'DC_TOT', 'HH_TOT'],\n",
       "      dtype='object')"
      ]
     },
     "execution_count": 5,
     "metadata": {},
     "output_type": "execute_result"
    }
   ],
   "source": [
    "df.columns"
   ]
  },
  {
   "cell_type": "code",
   "execution_count": 6,
   "metadata": {},
   "outputs": [
    {
     "data": {
      "text/html": [
       "<div>\n",
       "<style scoped>\n",
       "    .dataframe tbody tr th:only-of-type {\n",
       "        vertical-align: middle;\n",
       "    }\n",
       "\n",
       "    .dataframe tbody tr th {\n",
       "        vertical-align: top;\n",
       "    }\n",
       "\n",
       "    .dataframe thead th {\n",
       "        text-align: right;\n",
       "    }\n",
       "</style>\n",
       "<table border=\"1\" class=\"dataframe\">\n",
       "  <thead>\n",
       "    <tr style=\"text-align: right;\">\n",
       "      <th></th>\n",
       "      <th>AGNO</th>\n",
       "      <th>RBD</th>\n",
       "      <th>DGV_RBD</th>\n",
       "      <th>COD_REG_RBD</th>\n",
       "      <th>COD_PRO_RBD</th>\n",
       "      <th>COD_COM_RBD</th>\n",
       "      <th>COD_DEPROV_RBD</th>\n",
       "      <th>COD_DEPE</th>\n",
       "      <th>COD_DEPE2</th>\n",
       "      <th>RURAL_RBD</th>\n",
       "      <th>...</th>\n",
       "      <th>DC_SUP_SOST</th>\n",
       "      <th>HH_SUP_SOST</th>\n",
       "      <th>DC_SUBDIR</th>\n",
       "      <th>HH_SUBDIR</th>\n",
       "      <th>DC_PROF_ENC</th>\n",
       "      <th>HH_PROF_ENC</th>\n",
       "      <th>DC_EDUC_TRAD</th>\n",
       "      <th>HH_EDUC_TRAD</th>\n",
       "      <th>DC_TOT</th>\n",
       "      <th>HH_TOT</th>\n",
       "    </tr>\n",
       "  </thead>\n",
       "  <tbody>\n",
       "    <tr>\n",
       "      <th>count</th>\n",
       "      <td>16654.0</td>\n",
       "      <td>16654.000000</td>\n",
       "      <td>16654.000000</td>\n",
       "      <td>16654.000000</td>\n",
       "      <td>16654.000000</td>\n",
       "      <td>16654.000000</td>\n",
       "      <td>16654.000000</td>\n",
       "      <td>16654.000000</td>\n",
       "      <td>16654.000000</td>\n",
       "      <td>16654.000000</td>\n",
       "      <td>...</td>\n",
       "      <td>16654.000000</td>\n",
       "      <td>16654.000000</td>\n",
       "      <td>16654.000000</td>\n",
       "      <td>16654.000000</td>\n",
       "      <td>16654.000000</td>\n",
       "      <td>16654.000000</td>\n",
       "      <td>16654.000000</td>\n",
       "      <td>16654.000000</td>\n",
       "      <td>16654.000000</td>\n",
       "      <td>16654.000000</td>\n",
       "    </tr>\n",
       "    <tr>\n",
       "      <th>mean</th>\n",
       "      <td>2023.0</td>\n",
       "      <td>13463.826768</td>\n",
       "      <td>4.508767</td>\n",
       "      <td>9.245407</td>\n",
       "      <td>94.462231</td>\n",
       "      <td>9452.490393</td>\n",
       "      <td>91.813919</td>\n",
       "      <td>2.813859</td>\n",
       "      <td>1.884532</td>\n",
       "      <td>0.295905</td>\n",
       "      <td>...</td>\n",
       "      <td>0.005764</td>\n",
       "      <td>0.213042</td>\n",
       "      <td>0.048397</td>\n",
       "      <td>2.024018</td>\n",
       "      <td>0.123394</td>\n",
       "      <td>5.352408</td>\n",
       "      <td>0.041852</td>\n",
       "      <td>1.162243</td>\n",
       "      <td>16.746607</td>\n",
       "      <td>625.700492</td>\n",
       "    </tr>\n",
       "    <tr>\n",
       "      <th>std</th>\n",
       "      <td>0.0</td>\n",
       "      <td>10676.369828</td>\n",
       "      <td>2.872668</td>\n",
       "      <td>3.813839</td>\n",
       "      <td>37.829669</td>\n",
       "      <td>3785.177284</td>\n",
       "      <td>36.277812</td>\n",
       "      <td>1.026080</td>\n",
       "      <td>0.928506</td>\n",
       "      <td>0.456462</td>\n",
       "      <td>...</td>\n",
       "      <td>0.082537</td>\n",
       "      <td>3.277349</td>\n",
       "      <td>0.249541</td>\n",
       "      <td>10.606641</td>\n",
       "      <td>0.328899</td>\n",
       "      <td>14.313592</td>\n",
       "      <td>0.275703</td>\n",
       "      <td>9.611569</td>\n",
       "      <td>23.108197</td>\n",
       "      <td>892.985992</td>\n",
       "    </tr>\n",
       "    <tr>\n",
       "      <th>min</th>\n",
       "      <td>2023.0</td>\n",
       "      <td>1.000000</td>\n",
       "      <td>0.000000</td>\n",
       "      <td>1.000000</td>\n",
       "      <td>11.000000</td>\n",
       "      <td>1101.000000</td>\n",
       "      <td>11.000000</td>\n",
       "      <td>1.000000</td>\n",
       "      <td>1.000000</td>\n",
       "      <td>0.000000</td>\n",
       "      <td>...</td>\n",
       "      <td>0.000000</td>\n",
       "      <td>0.000000</td>\n",
       "      <td>0.000000</td>\n",
       "      <td>0.000000</td>\n",
       "      <td>0.000000</td>\n",
       "      <td>0.000000</td>\n",
       "      <td>0.000000</td>\n",
       "      <td>0.000000</td>\n",
       "      <td>0.000000</td>\n",
       "      <td>0.000000</td>\n",
       "    </tr>\n",
       "    <tr>\n",
       "      <th>25%</th>\n",
       "      <td>2023.0</td>\n",
       "      <td>5012.500000</td>\n",
       "      <td>2.000000</td>\n",
       "      <td>6.000000</td>\n",
       "      <td>61.000000</td>\n",
       "      <td>6116.000000</td>\n",
       "      <td>61.000000</td>\n",
       "      <td>2.000000</td>\n",
       "      <td>1.000000</td>\n",
       "      <td>0.000000</td>\n",
       "      <td>...</td>\n",
       "      <td>0.000000</td>\n",
       "      <td>0.000000</td>\n",
       "      <td>0.000000</td>\n",
       "      <td>0.000000</td>\n",
       "      <td>0.000000</td>\n",
       "      <td>0.000000</td>\n",
       "      <td>0.000000</td>\n",
       "      <td>0.000000</td>\n",
       "      <td>0.000000</td>\n",
       "      <td>0.000000</td>\n",
       "    </tr>\n",
       "    <tr>\n",
       "      <th>50%</th>\n",
       "      <td>2023.0</td>\n",
       "      <td>10443.500000</td>\n",
       "      <td>5.000000</td>\n",
       "      <td>9.000000</td>\n",
       "      <td>91.000000</td>\n",
       "      <td>9117.000000</td>\n",
       "      <td>92.000000</td>\n",
       "      <td>3.000000</td>\n",
       "      <td>2.000000</td>\n",
       "      <td>0.000000</td>\n",
       "      <td>...</td>\n",
       "      <td>0.000000</td>\n",
       "      <td>0.000000</td>\n",
       "      <td>0.000000</td>\n",
       "      <td>0.000000</td>\n",
       "      <td>0.000000</td>\n",
       "      <td>0.000000</td>\n",
       "      <td>0.000000</td>\n",
       "      <td>0.000000</td>\n",
       "      <td>6.000000</td>\n",
       "      <td>219.000000</td>\n",
       "    </tr>\n",
       "    <tr>\n",
       "      <th>75%</th>\n",
       "      <td>2023.0</td>\n",
       "      <td>20328.750000</td>\n",
       "      <td>7.000000</td>\n",
       "      <td>13.000000</td>\n",
       "      <td>131.000000</td>\n",
       "      <td>13119.000000</td>\n",
       "      <td>133.000000</td>\n",
       "      <td>3.000000</td>\n",
       "      <td>2.000000</td>\n",
       "      <td>1.000000</td>\n",
       "      <td>...</td>\n",
       "      <td>0.000000</td>\n",
       "      <td>0.000000</td>\n",
       "      <td>0.000000</td>\n",
       "      <td>0.000000</td>\n",
       "      <td>0.000000</td>\n",
       "      <td>0.000000</td>\n",
       "      <td>0.000000</td>\n",
       "      <td>0.000000</td>\n",
       "      <td>26.000000</td>\n",
       "      <td>950.000000</td>\n",
       "    </tr>\n",
       "    <tr>\n",
       "      <th>max</th>\n",
       "      <td>2023.0</td>\n",
       "      <td>42192.000000</td>\n",
       "      <td>9.000000</td>\n",
       "      <td>16.000000</td>\n",
       "      <td>163.000000</td>\n",
       "      <td>16305.000000</td>\n",
       "      <td>151.000000</td>\n",
       "      <td>6.000000</td>\n",
       "      <td>5.000000</td>\n",
       "      <td>1.000000</td>\n",
       "      <td>...</td>\n",
       "      <td>2.000000</td>\n",
       "      <td>88.000000</td>\n",
       "      <td>7.000000</td>\n",
       "      <td>289.000000</td>\n",
       "      <td>1.000000</td>\n",
       "      <td>44.000000</td>\n",
       "      <td>13.000000</td>\n",
       "      <td>548.000000</td>\n",
       "      <td>255.000000</td>\n",
       "      <td>11192.000000</td>\n",
       "    </tr>\n",
       "  </tbody>\n",
       "</table>\n",
       "<p>8 rows × 43 columns</p>\n",
       "</div>"
      ],
      "text/plain": [
       "          AGNO           RBD       DGV_RBD   COD_REG_RBD   COD_PRO_RBD  \\\n",
       "count  16654.0  16654.000000  16654.000000  16654.000000  16654.000000   \n",
       "mean    2023.0  13463.826768      4.508767      9.245407     94.462231   \n",
       "std        0.0  10676.369828      2.872668      3.813839     37.829669   \n",
       "min     2023.0      1.000000      0.000000      1.000000     11.000000   \n",
       "25%     2023.0   5012.500000      2.000000      6.000000     61.000000   \n",
       "50%     2023.0  10443.500000      5.000000      9.000000     91.000000   \n",
       "75%     2023.0  20328.750000      7.000000     13.000000    131.000000   \n",
       "max     2023.0  42192.000000      9.000000     16.000000    163.000000   \n",
       "\n",
       "        COD_COM_RBD  COD_DEPROV_RBD      COD_DEPE     COD_DEPE2     RURAL_RBD  \\\n",
       "count  16654.000000    16654.000000  16654.000000  16654.000000  16654.000000   \n",
       "mean    9452.490393       91.813919      2.813859      1.884532      0.295905   \n",
       "std     3785.177284       36.277812      1.026080      0.928506      0.456462   \n",
       "min     1101.000000       11.000000      1.000000      1.000000      0.000000   \n",
       "25%     6116.000000       61.000000      2.000000      1.000000      0.000000   \n",
       "50%     9117.000000       92.000000      3.000000      2.000000      0.000000   \n",
       "75%    13119.000000      133.000000      3.000000      2.000000      1.000000   \n",
       "max    16305.000000      151.000000      6.000000      5.000000      1.000000   \n",
       "\n",
       "       ...   DC_SUP_SOST   HH_SUP_SOST     DC_SUBDIR     HH_SUBDIR  \\\n",
       "count  ...  16654.000000  16654.000000  16654.000000  16654.000000   \n",
       "mean   ...      0.005764      0.213042      0.048397      2.024018   \n",
       "std    ...      0.082537      3.277349      0.249541     10.606641   \n",
       "min    ...      0.000000      0.000000      0.000000      0.000000   \n",
       "25%    ...      0.000000      0.000000      0.000000      0.000000   \n",
       "50%    ...      0.000000      0.000000      0.000000      0.000000   \n",
       "75%    ...      0.000000      0.000000      0.000000      0.000000   \n",
       "max    ...      2.000000     88.000000      7.000000    289.000000   \n",
       "\n",
       "        DC_PROF_ENC   HH_PROF_ENC  DC_EDUC_TRAD  HH_EDUC_TRAD        DC_TOT  \\\n",
       "count  16654.000000  16654.000000  16654.000000  16654.000000  16654.000000   \n",
       "mean       0.123394      5.352408      0.041852      1.162243     16.746607   \n",
       "std        0.328899     14.313592      0.275703      9.611569     23.108197   \n",
       "min        0.000000      0.000000      0.000000      0.000000      0.000000   \n",
       "25%        0.000000      0.000000      0.000000      0.000000      0.000000   \n",
       "50%        0.000000      0.000000      0.000000      0.000000      6.000000   \n",
       "75%        0.000000      0.000000      0.000000      0.000000     26.000000   \n",
       "max        1.000000     44.000000     13.000000    548.000000    255.000000   \n",
       "\n",
       "             HH_TOT  \n",
       "count  16654.000000  \n",
       "mean     625.700492  \n",
       "std      892.985992  \n",
       "min        0.000000  \n",
       "25%        0.000000  \n",
       "50%      219.000000  \n",
       "75%      950.000000  \n",
       "max    11192.000000  \n",
       "\n",
       "[8 rows x 43 columns]"
      ]
     },
     "execution_count": 6,
     "metadata": {},
     "output_type": "execute_result"
    }
   ],
   "source": [
    "df.describe()"
   ]
  },
  {
   "cell_type": "code",
   "execution_count": 7,
   "metadata": {},
   "outputs": [
    {
     "data": {
      "text/plain": [
       "AGNO               0\n",
       "RBD                0\n",
       "DGV_RBD            0\n",
       "NOM_RBD           30\n",
       "COD_REG_RBD        0\n",
       "NOM_REG_RBD_A      0\n",
       "COD_PRO_RBD        0\n",
       "COD_COM_RBD        0\n",
       "NOM_COM_RBD        0\n",
       "COD_DEPROV_RBD     0\n",
       "NOM_DEPROV_RBD     0\n",
       "COD_DEPE           0\n",
       "COD_DEPE2          0\n",
       "RURAL_RBD          0\n",
       "ESTADO_ESTAB       0\n",
       "DC_A               0\n",
       "HH_A               0\n",
       "DC_UTP             0\n",
       "HH_UTP             0\n",
       "DC_PDIR            0\n",
       "HH_PDIR            0\n",
       "DC_DIR             0\n",
       "HH_DIR             0\n",
       "DC_OES             0\n",
       "HH_OES             0\n",
       "DC_OF              0\n",
       "HH_OF              0\n",
       "DC_JUTP            0\n",
       "HH_JUTP            0\n",
       "DC_IG              0\n",
       "HH_IG              0\n",
       "DC_OR              0\n",
       "HH_OR              0\n",
       "DC_DIR_SOST        0\n",
       "HH_DIR_SOST        0\n",
       "DC_TP_SOST         0\n",
       "HH_TP_SOST         0\n",
       "DC_SUP_SOST        0\n",
       "HH_SUP_SOST        0\n",
       "DC_SUBDIR          0\n",
       "HH_SUBDIR          0\n",
       "DC_PROF_ENC        0\n",
       "HH_PROF_ENC        0\n",
       "DC_EDUC_TRAD       0\n",
       "HH_EDUC_TRAD       0\n",
       "DC_TOT             0\n",
       "HH_TOT             0\n",
       "dtype: int64"
      ]
     },
     "execution_count": 7,
     "metadata": {},
     "output_type": "execute_result"
    }
   ],
   "source": [
    "df.isnull().sum()"
   ]
  },
  {
   "cell_type": "markdown",
   "metadata": {},
   "source": [
    "**3.1 Pregunta 0 (descripción de variables)**\n",
    "\n",
    "Con el objetivo de familiarizarse y entender mejor la base de datos, se requiere realizar un analisis de esta."
   ]
  },
  {
   "cell_type": "markdown",
   "metadata": {},
   "source": [
    "1. Generar un grafico por cada una de las variables. El grafico debe tener un tıtulo descriptivo y debe mostrar\n",
    "informacion clara de la variable."
   ]
  },
  {
   "cell_type": "code",
   "execution_count": 8,
   "metadata": {},
   "outputs": [
    {
     "data": {
      "image/png": "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",
      "text/plain": [
       "<Figure size 640x480 with 1 Axes>"
      ]
     },
     "metadata": {
      "image/png": {
       "height": 480,
       "width": 640
      }
     },
     "output_type": "display_data"
    },
    {
     "data": {
      "text/plain": [
       "<Figure Size: (640 x 480)>"
      ]
     },
     "execution_count": 8,
     "metadata": {},
     "output_type": "execute_result"
    }
   ],
   "source": [
    "#1\n",
    "(ggplot(df)+\n",
    " aes(x=\"AGNO\",y=\"..count..\")+\n",
    " geom_bar(fill=\"blue\")\n",
    ")"
   ]
  },
  {
   "cell_type": "code",
   "execution_count": 9,
   "metadata": {},
   "outputs": [],
   "source": [
    "(ggplot(df)+\n",
    " aes(x=\"RBD\")+\n",
    " geom_bar(color=\"red\",fill=\"red\")+\n",
    " theme_linedraw()\n",
    ")"
   ]
  },
  {
   "cell_type": "code",
   "execution_count": null,
   "metadata": {},
   "outputs": [
    {
     "data": {
      "image/png": "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",
      "text/plain": [
       "<Figure size 640x480 with 1 Axes>"
      ]
     },
     "metadata": {
      "image/png": {
       "height": 480,
       "width": 640
      }
     },
     "output_type": "display_data"
    },
    {
     "data": {
      "text/plain": [
       "<Figure Size: (640 x 480)>"
      ]
     },
     "execution_count": 14,
     "metadata": {},
     "output_type": "execute_result"
    }
   ],
   "source": [
    "#3\n",
    "(ggplot(df)+\n",
    " aes(x=\"DGV_RBD\",y=\"..count..\")+\n",
    " geom_bar(fill=\"blue\")+\n",
    " theme(axis_text_x=element_text(angle=90,hjust=1)))\n"
   ]
  },
  {
   "cell_type": "code",
   "execution_count": null,
   "metadata": {},
   "outputs": [
    {
     "data": {
      "image/png": "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",
      "text/plain": [
       "<Figure size 640x480 with 1 Axes>"
      ]
     },
     "metadata": {
      "image/png": {
       "height": 480,
       "width": 640
      }
     },
     "output_type": "display_data"
    },
    {
     "data": {
      "text/plain": [
       "<Figure Size: (640 x 480)>"
      ]
     },
     "execution_count": 15,
     "metadata": {},
     "output_type": "execute_result"
    }
   ],
   "source": [
    "(ggplot(df)+\n",
    " aes(x=\"NOM_RBD\")+\n",
    " geom_bar(color=\"red\",fill=\"red\")+\n",
    " theme_linedraw()\n",
    ")"
   ]
  },
  {
   "cell_type": "markdown",
   "metadata": {},
   "source": [
    "2. Se debe indicar por cada una de las variables su tipo (cuantitativa o cualitativa) justificando su decision. Se\n",
    "debe recordar que el tipo de variable depende de su naturaleza, no del formato en el que se encuentre en la\n",
    "base de datos."
   ]
  },
  {
   "cell_type": "markdown",
   "metadata": {},
   "source": [
    "**LAS VARIABLES SON DE TIPO:**\n",
    "\n",
    "AGNO: XX\n",
    "\n",
    "RBD: XX\n",
    "\n",
    "DGV_RBD: XX\n",
    "\n"
    "RBD: XX\n",
    "\n",
    "RBD: XX\n",
    "\n"
    "NOM_RBD: XX\n",
    "\n"
    "COD_REG_RBD: XX\n",
    "\n"
    "NOM_REG_RBD_A: XX\n",
    "\n"
    "COD_PRO_RBD: XX\n",
    "\n"
    "COD_COM_RBD: XX\n",
    "\n"
    "NOM_COM_RBD: XX\n",
    "\n"
    "COD_DEPROV_RBD: XX\n",
    "\n"
    "NOM_DEPROV_RBD: XX\n",
    "\n"
    "COD_DEPE: XX\n",
    "\n"
    "COD_DEPE2: XX\n",
    "\n"
    "RURAL_RBD: XX\n",
    "\n"
    "ESTADO_ESTAB: XX\n",
    "\n"
    "DC_A: XX\n",
    "\n"
    "HH_A: XX\n",
    "\n"
    "DC_UTP: XX\n",
    "\n"
    "HH_UTP: XX\n",
    "\n"
    "DC_PDIR: XX\n",
    "\n"
    "HH_PDIR: XX\n",
    "\n"
    "DC_DIR: XX\n",
    "\n"
    "HH_DIR: XX\n",
    "\n"
    "DC_OES: XX\n",
    "\n"
    "HH_OES: XX\n",
    "\n"
    "DC_OF: XX\n",
    "\n"
    "HH_OF: XX\n",
    "\n"
    "DC_JUTP: XX\n",
    "\n"
    "HH_JUTP: XX\n",
    "\n"
    "DC_IG: XX\n",
    "\n"
    "HH_IG: XX\n",
    "\n"
    "DC_OR: XX\n",
    "\n"
    "HH_OR: XX\n",
    "\n"
    "DC_DIR_SOST: XX\n",
    "\n"
    "HH_DIR_SOST: XX\n",
    "\n"
    "DC_TP_SOST: XX\n",
    "\n"
    "HH_TP_SOST: XX\n",
    "\n"
    "DC_SUP_SOST: XX\n",
    "\n"
    "HH_SUP_SOST: XX\n",
    "\n"
    "DC_SUBDIR: XX\n",
    "\n"
    "HH_SUBDIR: XX\n",
    "\n"
    "DC_PROF_ENC: XX\n",
    "\n"
    "HH_PROF_ENC: XX\n",
    "\n"
    "DC_EDUC_TRAD: XX\n",
    "\n"
    "HH_EDUC_TRAD: XX\n",
    "\n"
    "DC_TOT: XX\n",
    "\n"
    "HH_TOT: XX\n",  
   ]
  },
  {
   "cell_type": "markdown",
   "metadata": {},
   "source": [
    "**3.2 Pregunta 1 (test de independencia)**\n",
    "\n",
    "Los docentes UTP (Unidad Tecnico Pedagogica) en Chile son profesionales de la educacion encargados de la coordinacion pedagogica y tecnica en las instituciones educativas. Se dedican a la planificacion, evaluacion y seguimiento del rendimiento academico de los estudiantes, ofrecen apoyo y orientacion a otros docentes, participan en el desarrollo profesional y gestionan aspectos curriculares. Tambien mantienen comunicacion con los padres para informarles sobre el progreso de los estudiantes, desempeñando un papel fundamental en la mejora de la calidad educativa en\n",
    "el paıs."
   ]
  },
  {
   "cell_type": "markdown",
   "metadata": {},
   "source": [
    "1. Obtenga un grafico apropiado que le permita estudiar la distribucion del numero de docentes pertenecientes a\n",
    "la planta UTP en los establecimientos educacionales de sus regiones. Discuta las caracterısticas mas relevantes\n",
    "presentes en sus graficos"
   ]
  },
  {
   "cell_type": "code",
   "execution_count": null,
   "metadata": {},
   "outputs": [],
   "source": []
  },
  {
   "cell_type": "markdown",
   "metadata": {},
   "source": [
    "2. Al Ministerio de Educacion le preocupa que existan diferencias en el numero de docentes UTP entre los distintos tipos de establecimientos (municipales, particulares subvencionados y particulares pagados). Implemente un test de independencia chi-cuadrado que le permita concluir si existe dependencia entre el tipo de establecimiento: (solo considere municipales, particulares subvencionados y particulares pagados) y el numero\n",
    "de docentes UTP. En particular:\n",
    "\n",
    "• Reporte la tabla de frecuencias observadas y esperadas.\n",
    "\n",
    "• Reporte el p-valor obtenido y concluya con un valor α = 0.05. Interprete sus resultados."
   ]
  },
  {
   "cell_type": "code",
   "execution_count": null,
   "metadata": {},
   "outputs": [],
   "source": []
  },
  {
   "cell_type": "markdown",
   "metadata": {},
   "source": [
    "3. Obtenga un grafico apropiado para mostrar la distribucion del numero de docentes de planta UTP por establecimiento. Finalmente, muestre como esa distribucion cambia (o no) para los distintos establecimientos: Municipales, particulares suvencionados y particulares pagados. Incluya una breve discusion sobre si lo que observa en sus graficos concuerda con lo obtenido en la implementacion del test anterior."
   ]
  },
  {
   "cell_type": "code",
   "execution_count": null,
   "metadata": {},
   "outputs": [],
   "source": []
  },
  {
   "cell_type": "markdown",
   "metadata": {},
   "source": [
    "**3.3 Pregunta 2 (test de bondad de ajuste)**\n",
    "\n",
    "En Chile, las “Horas de Contrato” (variable HH_A) para los docentes de aula se refieren a la cantidad de horas que los\n",
    "profesores est´an contratados para trabajar en una institucion educativa durante un perıodo especıfico, generalmente\n",
    "un año escolar. La cantidad de horas de contrato puede variar segun el nivel educativo y el tipo de establecimiento\n",
    "educacional.\n",
    "En el contexto de un estudio educativo, se plantea la hipotesis de que las Horas de Contrato de los Docentes\n",
    "de Aula siguen una distribucion exponencial. Para investigar esta afirmacion, sigua los siguientes pasos:"
   ]
  },
  {
   "cell_type": "markdown",
   "metadata": {},
   "source": [
    "1. Analisis Visual: Genere un histograma de densidad para la variable en cuestion y añada en este grafico la funcion de densidad asociada a la distribucion exponencial. Disculta sobre la factibilidad de la hipotesis planteada en el estudio utilizando el histograma generado.\n",
    "\n",
    "**Hint**: Recuerde que la densidad de la distribucion exponencial esta dada por:\n",
    "f(x) = λ exp{−λx},\n",
    "y que para la construccion de su grafico es razonable estimar el parametro λ usando X¯ −1 donde X¯ representa el promedio de HH_A."
   ]
  },
  {
   "cell_type": "code",
   "execution_count": null,
   "metadata": {},
   "outputs": [],
   "source": []
  },
  {
   "cell_type": "markdown",
   "metadata": {},
   "source": [
    "2. Evaluacion Estadıstica: Implemente un test de hipotesis de bondad de ajuste con un nivel de significancia de α = 0.05 que le permita concluir sobre la hipotesis planteada en el estudio. Recuerde que el test de bondad\n",
    "de ajuste le permite analizar si los datos se comportan como una distribucion en especıfico."
   ]
  },
  {
   "cell_type": "code",
   "execution_count": null,
   "metadata": {},
   "outputs": [],
   "source": []
  },
  {
   "cell_type": "markdown",
   "metadata": {},
   "source": [
    "3.4 Pregunta 3 (regresion lineal simple y multiple)"
   ]
  },
  {
   "cell_type": "markdown",
   "metadata": {},
   "source": [
    "1. Regresion lineal simple: Implemente un modelo de regresion lineal simple que le permita modelar las\n",
    "Horas de Contrato de los Docentes de Aula (variable HH_A) en funcion del Total de Docentes de aula (variable\n",
    "DC_A).\n",
    "Los pasos que debera realizar para dar respuesta a esta pregunta son:\n",
    "\n",
    "(a) Obtenga la correlacion entre las variables involucradas.\n",
    "\n",
    "(b) Visualize la relacion entre las variables\n",
    "\n",
    "(c) Separe los datos en conjuntos de datos de entrenamiento y testeo. Luego ajuste el modelo de regresion.\n",
    "\n",
    "(d) Muestre en una tabla los coeficientes obtenidos (Intercepto y pendiente). Interprete sus resultados.\n",
    "\n",
    "(e) Visualize el modelo de regresion utilizando los coeficientes encontrados en el paso anterior.\n",
    "\n",
    "(f) Obtenga y comente el coeficiente de determinacion obtenido.\n",
    "\n",
    "(g) Evalue su modelo utilizando los datos del set de testeo. \n",
    "Para esto, calcule el MSE y RMSE predictivos\n",
    "(error cuadratico medio y raız del error cuadratico medio). ¿Que significan los valores obtenidos?"
   ]
  },
  {
   "cell_type": "code",
   "execution_count": null,
   "metadata": {},
   "outputs": [],
   "source": []
  },
  {
   "cell_type": "markdown",
   "metadata": {},
   "source": [
    "2. Regresion lineal multiple: En esta pregunta se le pide que implemente un modelo de regresion lineal\n",
    "multiple para modelar las Horas de Contrato de los Docentes de Aula (variable HH_A) en funcion del Total\n",
    "de Docentes de aula (variable DC_A) y de tres variables mas que usted debe escoger. Para escoger\n",
    "estas variables usted debe usar criterios claros y objetivos (por ejemplo, puede elegir las variables que mas se\n",
    "correlacionan con la variable dependiente).\n",
    "\n",
    "Utilizando la misma separacion de entrenamiento y testing realizada en el ıtem anterior responda: ¿Que\n",
    "impacto tienen las variable adicionales en el rendimiento de su modelo? Comente en funcion de los nuevas\n",
    "metricas obtenidas (error cuadratico medio y R2)."
   ]
  },
  {
   "cell_type": "code",
   "execution_count": null,
   "metadata": {},
   "outputs": [],
   "source": []
  },
  {
   "cell_type": "markdown",
   "metadata": {},
   "source": [
    "**3.5 Pregunta 4 (clasificacion y validacion)**\n",
    "\n",
    "En esta pregunta se le pide que implemente dos modelos de clasificacion: Support Vector Machine y Regresion\n",
    "Logıstica. El objetivo es generar un modelo que prediga si la variable Horas de Contrato de los Docentes de Aula\n",
    "(variable HH A) es mayor a 160 horas. Los modelos deben ser implementados usando validacion simple y K-Fold\n",
    "Cross validation. Los pasos para responder la pregunta son:"
   ]
  },
  {
   "cell_type": "markdown",
   "metadata": {},
   "source": [
    "1. Genere una nueva variable a partir de Horas de Contrato de los Docentes de Aula (variable HH A) que tome\n",
    "el valor de 1 si supera las 160 horas, y tenga valor 0 si es menor o igual a este valor."
   ]
  },
  {
   "cell_type": "code",
   "execution_count": null,
   "metadata": {},
   "outputs": [],
   "source": []
  },
  {
   "cell_type": "markdown",
   "metadata": {},
   "source": [
    "2. Seleccione la variable Total de Docentes de aula (variable DC A) y las tres mejores variables. Para escoger\n",
    "estas variables usted debe justificar usando criterios claros y objetivos."
   ]
  },
  {
   "cell_type": "code",
   "execution_count": null,
   "metadata": {},
   "outputs": [],
   "source": []
  },
  {
   "cell_type": "markdown",
   "metadata": {},
   "source": [
    "3. Genere un nuevo dataframe que contenga: la variable Total de Docentes de aula, las 3 variables que escogio\n",
    "y la nueva variable generada"
   ]
  },
  {
   "cell_type": "code",
   "execution_count": null,
   "metadata": {},
   "outputs": [],
   "source": []
  },
  {
   "cell_type": "markdown",
   "metadata": {},
   "source": [
    "4. Con el data frame obtenido, aplique el modelo SVM utilizando la tecnica de validacion simple. Obtenga los\n",
    "valores de las metricas: accuracy, recall, precision y f1 score. Explique como interpretarıa los resultados de\n",
    "estas metricas."
   ]
  },
  {
   "cell_type": "code",
   "execution_count": null,
   "metadata": {},
   "outputs": [],
   "source": []
  },
  {
   "cell_type": "markdown",
   "metadata": {},
   "source": [
    "5. Con el data frame obtenido, aplique el modelo Regresion Logıstica utilizando la tecnica de validacion simple.\n",
    "Obtenga los valores de las metricas: accuracy, recall, precision y f1 score. Explique como interpretarıa los\n",
    "resultados de estas metricas."
   ]
  },
  {
   "cell_type": "code",
   "execution_count": null,
   "metadata": {},
   "outputs": [],
   "source": []
  },
  {
   "cell_type": "markdown",
   "metadata": {},
   "source": [
    "6. Mencione la principal deficiencia de aplicar validacion simple aplicada para este caso."
   ]
  },
  {
   "cell_type": "code",
   "execution_count": null,
   "metadata": {},
   "outputs": [],
   "source": []
  },
  {
   "cell_type": "markdown",
   "metadata": {},
   "source": [
    "7. Con el data frame obtenido, aplique el modelo SVM utilizando la tecnica de validacion cruzada. Obtenga\n",
    "los valores de las metricas: accuracy, recall, precision y f1 score. Determine si su modelo se encuentra sobre\n",
    "entrenado."
   ]
  },
  {
   "cell_type": "code",
   "execution_count": null,
   "metadata": {},
   "outputs": [],
   "source": []
  },
  {
   "cell_type": "markdown",
   "metadata": {},
   "source": [
    "8. Con el data frame obtenido, aplique el modelo Regresion Logıstica utilizando la tecnica de validacion cruzada.\n",
    "Obtenga los valores de las metricas: accuracy, recall, precision y f1 score. Determine si su modelo se encuentra\n",
    "sobre entrenado."
   ]
  },
  {
   "cell_type": "code",
   "execution_count": null,
   "metadata": {},
   "outputs": [],
   "source": []
  }
 ],
 "metadata": {
  "kernelspec": {
   "display_name": "Python 3",
   "language": "python",
   "name": "python3"
  },
  "language_info": {
   "codemirror_mode": {
    "name": "ipython",
    "version": 3
   },
   "file_extension": ".py",
   "mimetype": "text/x-python",
   "name": "python",
   "nbconvert_exporter": "python",
   "pygments_lexer": "ipython3",
   "version": "3.11.5"
  }
 },
 "nbformat": 4,
 "nbformat_minor": 2
}
